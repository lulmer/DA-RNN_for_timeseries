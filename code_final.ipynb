{
 "cells": [
  {
   "cell_type": "markdown",
   "metadata": {
    "colab_type": "text",
    "id": "_NK8TN-slic4"
   },
   "source": [
    "**DUAL ATTENTION BASED RNN :**"
   ]
  },
  {
   "cell_type": "markdown",
   "metadata": {
    "colab_type": "text",
    "id": "wOjT-NCQ8SOI"
   },
   "source": [
    "Google Drive Mount :\n",
    "\n"
   ]
  },
  {
   "cell_type": "code",
   "execution_count": 1,
   "metadata": {
    "colab": {
     "base_uri": "https://localhost:8080/",
     "height": 124
    },
    "colab_type": "code",
    "id": "U_vN_3e5w-cy",
    "outputId": "9e4f8e0b-8944-443a-9ecb-7596307365d6"
   },
   "outputs": [
    {
     "name": "stdout",
     "output_type": "stream",
     "text": [
      "Go to this URL in a browser: https://accounts.google.com/o/oauth2/auth?client_id=947318989803-6bn6qk8qdgf4n4g3pfee6491hc0brc4i.apps.googleusercontent.com&redirect_uri=urn%3aietf%3awg%3aoauth%3a2.0%3aoob&response_type=code&scope=email%20https%3a%2f%2fwww.googleapis.com%2fauth%2fdocs.test%20https%3a%2f%2fwww.googleapis.com%2fauth%2fdrive%20https%3a%2f%2fwww.googleapis.com%2fauth%2fdrive.photos.readonly%20https%3a%2f%2fwww.googleapis.com%2fauth%2fpeopleapi.readonly\n",
      "\n",
      "Enter your authorization code:\n",
      "··········\n",
      "Mounted at /content/drive\n"
     ]
    }
   ],
   "source": [
    "from google.colab import drive\n",
    "drive.mount('/content/drive')"
   ]
  },
  {
   "cell_type": "code",
   "execution_count": 2,
   "metadata": {
    "colab": {
     "base_uri": "https://localhost:8080/",
     "height": 34
    },
    "colab_type": "code",
    "id": "LUV-YBZixIYi",
    "outputId": "b1a332a7-1a54-4acb-bfb7-1cc850f5124b"
   },
   "outputs": [
    {
     "name": "stdout",
     "output_type": "stream",
     "text": [
      "/content/drive/My Drive\n"
     ]
    }
   ],
   "source": [
    "cd drive/My\\ Drive"
   ]
  },
  {
   "cell_type": "code",
   "execution_count": 0,
   "metadata": {
    "colab": {},
    "colab_type": "code",
    "id": "Kv1agKvsEVY8"
   },
   "outputs": [],
   "source": [
    "# Importation des packages\n",
    "import numpy as np\n",
    "import pandas as pd\n",
    "from sklearn.metrics import mean_squared_error\n",
    "from pytorchtools import *\n",
    "import matplotlib.pyplot as plt\n",
    "\n",
    "from torch.autograd import Variable\n",
    "\n",
    "import torch\n",
    "from torch import nn\n",
    "from torch import optim\n",
    "import torch.nn.functional as F"
   ]
  },
  {
   "cell_type": "markdown",
   "metadata": {
    "colab_type": "text",
    "id": "gFX-OX3e8cMW"
   },
   "source": [
    "Le modèle :\n",
    "\n"
   ]
  },
  {
   "cell_type": "code",
   "execution_count": 0,
   "metadata": {
    "colab": {},
    "colab_type": "code",
    "id": "rtEHHVWxlh0C"
   },
   "outputs": [],
   "source": [
    "class Encoder(nn.Module):\n",
    "    \"\"\"encoder in DA_RNN.\"\"\"\n",
    "\n",
    "    def __init__(self, T,\n",
    "                 input_size,\n",
    "                 encoder_num_hidden,\n",
    "                 parallel=False):\n",
    "        \"\"\"Initialize an encoder in DA_RNN.\"\"\"\n",
    "        super(Encoder, self).__init__()\n",
    "        self.encoder_num_hidden = encoder_num_hidden\n",
    "        self.input_size = input_size\n",
    "        self.parallel = parallel\n",
    "        self.T = T\n",
    "\n",
    "        # Fig 1. Temporal Attention Mechanism: Encoder is LSTM\n",
    "        self.encoder_lstm = nn.LSTM(\n",
    "            input_size=self.input_size,\n",
    "            hidden_size=self.encoder_num_hidden,\n",
    "            num_layers = 1\n",
    "        )\n",
    "\n",
    "        # Construct Input Attention Mechanism via deterministic attention model\n",
    "        # Linear(in_dim,out_dim)’\n",
    "        # Eq. 8: W_e[h_{t-1}; s_{t-1}] + U_e * x^k\n",
    "        self.encoder_attn = nn.Linear(\n",
    "            in_features=2 * self.encoder_num_hidden + self.T - 1,\n",
    "            out_features=1\n",
    "        )\n",
    "\n",
    "    def forward(self, X):\n",
    "        \"\"\"forward.\n",
    "\n",
    "        Args:\n",
    "            X: input data\n",
    "\n",
    "        \"\"\"\n",
    "        X_tilde = Variable(X.data.new(\n",
    "            X.size(0), self.T - 1, self.input_size).zero_())\n",
    "        X_encoded = Variable(X.data.new(\n",
    "            X.size(0), self.T - 1, self.encoder_num_hidden).zero_())\n",
    "\n",
    "        # Eq. 8, parameters not in nn.Linear but to be learnt\n",
    "        # v_e = torch.nn.Parameter(data=torch.empty(\n",
    "        #     self.input_size, self.T).uniform_(0, 1), requires_grad=True)\n",
    "        # U_e = torch.nn.Parameter(data=torch.empty(\n",
    "        #     self.T, self.T).uniform_(0, 1), requires_grad=True)\n",
    "        # h_n, s_n: initial states with dimention hidden_size\n",
    "        h_n = self._init_states(X)\n",
    "        s_n = self._init_states(X)\n",
    "\n",
    "        for t in range(self.T - 1):\n",
    "            # batch_size * input_size * (2 * hidden_size + T - 1)\n",
    "            x = torch.cat((h_n.repeat(self.input_size, 1, 1).permute(1, 0, 2),\n",
    "                           s_n.repeat(self.input_size, 1, 1).permute(1, 0, 2),\n",
    "                           X.permute(0, 2, 1)), dim=2)\n",
    "            \n",
    "            # get attention coefficients from LSTM\n",
    "            x = self.encoder_attn(\n",
    "                x.view(-1, self.encoder_num_hidden * 2 + self.T - 1))\n",
    "\n",
    "            # get weights by softmax\n",
    "            alpha = F.softmax(x.view(-1, self.input_size))\n",
    "\n",
    "            # get new input for LSTM\n",
    "            x_tilde = torch.mul(alpha, X[:, t, :])\n",
    "\n",
    "            # Fix the warning about non-contiguous memory\n",
    "            # https://discuss.pytorch.org/t/dataparallel-issue-with-flatten-parameter/8282\n",
    "            self.encoder_lstm.flatten_parameters()\n",
    "\n",
    "            # encoder LSTM\n",
    "            _, final_state = self.encoder_lstm(x_tilde.unsqueeze(0), (h_n, s_n))\n",
    "            h_n = final_state[0]\n",
    "            s_n = final_state[1]\n",
    "\n",
    "            X_tilde[:, t, :] = x_tilde\n",
    "            X_encoded[:, t, :] = h_n\n",
    "\n",
    "        return X_tilde, X_encoded\n",
    "\n",
    "    def _init_states(self, X):\n",
    "        \"\"\"Initialize all 0 hidden states and cell states for encoder.\n",
    "\n",
    "        Args:\n",
    "            X\n",
    "\n",
    "        Returns:\n",
    "            initial_hidden_states\n",
    "        \"\"\"\n",
    "        # https://pytorch.org/docs/master/nn.html?#lstm\n",
    "        return Variable(X.data.new(1, X.size(0), self.encoder_num_hidden).zero_())\n",
    "\n",
    "\n",
    "class Decoder(nn.Module):\n",
    "    \"\"\"decoder in DA_RNN.\"\"\"\n",
    "\n",
    "    def __init__(self, T, decoder_num_hidden, encoder_num_hidden):\n",
    "        \"\"\"Initialize a decoder in DA_RNN.\"\"\"\n",
    "        super(Decoder, self).__init__()\n",
    "        self.decoder_num_hidden = decoder_num_hidden\n",
    "        self.encoder_num_hidden = encoder_num_hidden\n",
    "        self.T = T\n",
    "\n",
    "        self.attn_layer = nn.Sequential(\n",
    "            nn.Linear(2 * decoder_num_hidden + encoder_num_hidden, encoder_num_hidden),\n",
    "            nn.Tanh(),\n",
    "            nn.Linear(encoder_num_hidden, 1)\n",
    "        )\n",
    "        self.lstm_layer = nn.LSTM(\n",
    "            input_size=1,\n",
    "            hidden_size=decoder_num_hidden\n",
    "        )\n",
    "        self.fc = nn.Linear(encoder_num_hidden + 1, 1)\n",
    "        self.fc_final = nn.Linear(decoder_num_hidden + encoder_num_hidden, 1)\n",
    "\n",
    "        self.fc.weight.data.normal_()\n",
    "\n",
    "    def forward(self, X_encoded, y_prev):\n",
    "        \"\"\"forward.\"\"\"\n",
    "        d_n = self._init_states(X_encoded)\n",
    "        c_n = self._init_states(X_encoded)\n",
    "\n",
    "        for t in range(self.T - 1):\n",
    "\n",
    "            x = torch.cat((d_n.repeat(self.T - 1, 1, 1).permute(1, 0, 2),\n",
    "                           c_n.repeat(self.T - 1, 1, 1).permute(1, 0, 2),\n",
    "                           X_encoded), dim=2)\n",
    "\n",
    "            beta = F.softmax(self.attn_layer(\n",
    "                x.view(-1, 2 * self.decoder_num_hidden + self.encoder_num_hidden)).view(-1, self.T - 1))\n",
    "\n",
    "            # Eqn. 14: compute context vector\n",
    "            # batch_size * encoder_hidden_size\n",
    "            context = torch.bmm(beta.unsqueeze(1), X_encoded)[:, 0, :]\n",
    "            if t < self.T - 1:\n",
    "                # Eqn. 15\n",
    "                # batch_size * 1\n",
    "                y_tilde = self.fc(\n",
    "                    torch.cat((context, y_prev[:, t].unsqueeze(1)), dim=1))\n",
    "\n",
    "                # Eqn. 16: LSTM\n",
    "                self.lstm_layer.flatten_parameters()\n",
    "                _, final_states = self.lstm_layer(\n",
    "                    y_tilde.unsqueeze(0), (d_n, c_n))\n",
    "\n",
    "                d_n = final_states[0]  # 1 * batch_size * decoder_num_hidden\n",
    "                c_n = final_states[1]  # 1 * batch_size * decoder_num_hidden\n",
    "\n",
    "        # Eqn. 22: final output\n",
    "        y_pred = self.fc_final(torch.cat((d_n[0], context), dim=1))\n",
    "\n",
    "        return y_pred\n",
    "\n",
    "    def _init_states(self, X):\n",
    "        \"\"\"Initialize all 0 hidden states and cell states for encoder.\n",
    "\n",
    "        Args:\n",
    "            X\n",
    "        Returns:\n",
    "            initial_hidden_states\n",
    "\n",
    "        \"\"\"\n",
    "        # hidden state and cell state [num_layers*num_directions, batch_size, hidden_size]\n",
    "        # https://pytorch.org/docs/master/nn.html?#lstm\n",
    "        return Variable(X.data.new(1, X.size(0), self.decoder_num_hidden).zero_())\n",
    "\n",
    "\n",
    "class DA_rnn(nn.Module):\n",
    "    \"\"\"da_rnn.\"\"\"\n",
    "\n",
    "    def __init__(self, X, y, T,\n",
    "                 encoder_num_hidden,\n",
    "                 decoder_num_hidden,\n",
    "                 batch_size,\n",
    "                 learning_rate,\n",
    "                 epochs,\n",
    "                 parallel=False):\n",
    "        \"\"\"da_rnn initialization.\"\"\"\n",
    "        super(DA_rnn, self).__init__()\n",
    "        self.encoder_num_hidden = encoder_num_hidden\n",
    "        self.decoder_num_hidden = decoder_num_hidden\n",
    "        self.learning_rate = learning_rate\n",
    "        self.batch_size = batch_size\n",
    "        self.parallel = parallel\n",
    "        self.shuffle = False\n",
    "        self.epochs = epochs\n",
    "        self.T = T\n",
    "        self.X = X\n",
    "        self.y = y\n",
    "\n",
    "        self.device = torch.device('cuda:0' if torch.cuda.is_available() else 'cpu')\n",
    "        print(\"==> Use accelerator: \", self.device)\n",
    "\n",
    "        self.Encoder = Encoder(input_size=X.shape[1],\n",
    "                               encoder_num_hidden=encoder_num_hidden,\n",
    "                               T=T).to(self.device)\n",
    "        self.Decoder = Decoder(encoder_num_hidden=encoder_num_hidden,\n",
    "                               decoder_num_hidden=decoder_num_hidden,\n",
    "                               T=T).to(self.device)\n",
    "\n",
    "        # Loss function\n",
    "        self.criterion = nn.MSELoss()\n",
    "\n",
    "        if self.parallel:\n",
    "            self.encoder = nn.DataParallel(self.encoder)\n",
    "            self.decoder = nn.DataParallel(self.decoder)\n",
    "\n",
    "        self.encoder_optimizer = optim.Adam(params=filter(lambda p: p.requires_grad,\n",
    "                                                          self.Encoder.parameters()),\n",
    "                                            lr=self.learning_rate)\n",
    "        self.decoder_optimizer = optim.Adam(params=filter(lambda p: p.requires_grad,\n",
    "                                                          self.Decoder.parameters()),\n",
    "                                            lr=self.learning_rate)\n",
    "\n",
    "        # Training set\n",
    "        self.train_timesteps = int(self.X.shape[0] * 0.7)\n",
    "        print(\"Nb de données en Train\",self.train_timesteps)\n",
    "        self.y = (self.y - np.mean(self.y[:self.train_timesteps])) \n",
    "        self.input_size = self.X.shape[1]\n",
    "\n",
    "        # Validation set \n",
    "        self.valid_timesteps = int(self.X.shape[0] * 0.1)\n",
    "        print(\"Nb de données en Valid\",self.valid_timesteps)\n",
    "        print(\"Nb de données en Test\",self.X.shape[0]-self.valid_timesteps-self.train_timesteps)\n",
    "\n",
    "    def train(self):\n",
    "        \"\"\"training process.\"\"\"\n",
    "        early_stopping = EarlyStopping(patience=2, verbose=True)\n",
    "        iter_per_epoch = int(np.ceil(self.train_timesteps * 1. / self.batch_size))\n",
    "        self.iter_losses = np.zeros(self.epochs * iter_per_epoch)\n",
    "        self.epoch_losses = np.zeros(self.epochs)\n",
    "\n",
    "        iter_per_epoch_valid= int(np.ceil(self.valid_timesteps * 1. / self.batch_size))\n",
    "        self.iter_losses_valid = np.ones(self.epochs * iter_per_epoch_valid) * float(\"inf\")\n",
    "        self.epoch_losses_valid= np.zeros(self.epochs)\n",
    "\n",
    "        n_iter = 0\n",
    "\n",
    "        for epoch in range(self.epochs):\n",
    "            if self.shuffle:\n",
    "                ref_idx = np.random.permutation(self.train_timesteps - self.T)\n",
    "            else:\n",
    "                ref_idx = np.array(range(self.train_timesteps - self.T))\n",
    "                ref_idx_valid=  np.array(range(self.train_timesteps - self.T,self.train_timesteps+self.valid_timesteps - self.T +1 ))\n",
    "            idx = 0\n",
    "            idx_valid=0\n",
    "\n",
    "            while (idx < self.train_timesteps):\n",
    "                # get the indices of X_train]\n",
    "                indices = ref_idx[idx:(idx + self.batch_size)]\n",
    "                #print(idx,\"Train\")\n",
    "                #print(ref_idx.shape,\"Train_shape\")\n",
    "                # x = np.zeros((self.T - 1, len(indices), self.input_size))\n",
    "                x = np.zeros((len(indices), self.T - 1, self.input_size))\n",
    "                y_prev = np.zeros((len(indices), self.T - 1))\n",
    "                y_gt = self.y[indices + self.T]\n",
    "\n",
    "                # format x into 3D tensor\n",
    "                for bs in range(len(indices)):\n",
    "                    x[bs, :, :] = self.X[indices[bs]:(indices[bs] + self.T - 1), :]\n",
    "                    y_prev[bs, :] = self.y[indices[bs]: (indices[bs] + self.T - 1)]\n",
    "\n",
    "                loss = self.train_forward(x, y_prev, y_gt)\n",
    "                self.iter_losses[int(epoch * iter_per_epoch + idx / self.batch_size)] = loss\n",
    "\n",
    "                idx += self.batch_size\n",
    "                n_iter += 1\n",
    "                if n_iter % 10000 == 0 and n_iter != 0:\n",
    "                    for param_group in self.encoder_optimizer.param_groups:\n",
    "                        param_group['lr'] = param_group['lr'] * 0.9\n",
    "                    for param_group in self.decoder_optimizer.param_groups:\n",
    "                        param_group['lr'] = param_group['lr'] * 0.9\n",
    "\n",
    "                self.epoch_losses[epoch] = np.mean(self.iter_losses[range(\n",
    "                    epoch * iter_per_epoch, (epoch + 1) * iter_per_epoch)])\n",
    "                \n",
    "            while idx_valid < self.valid_timesteps :\n",
    "              indices_valid = ref_idx_valid[idx_valid:(idx_valid + self.batch_size)]\n",
    "              #print(idx_valid,\"Valid\")\n",
    "              #print(ref_idx_valid.shape,\"Valid_shape\")\n",
    "              x = np.zeros((len(indices_valid), self.T - 1, self.input_size))\n",
    "              y_prev = np.zeros((len(indices_valid), self.T - 1))\n",
    "              y_gt = self.y[indices_valid + self.T]\n",
    "\n",
    "              # format x into 3D tensor\n",
    "              for bs in range(len(indices_valid)):\n",
    "                  x[bs, :, :] = self.X[indices_valid[bs]:(indices_valid[bs] + self.T - 1), :]\n",
    "                  y_prev[bs, :] = self.y[indices_valid[bs]: (indices_valid[bs] + self.T - 1)]\n",
    "\n",
    "              loss_valid = self.train_forward(x, y_prev, y_gt,back=False)\n",
    "              self.iter_losses_valid[int(epoch * iter_per_epoch_valid + idx_valid / self.batch_size)] = loss_valid\n",
    "\n",
    "              idx_valid += self.batch_size\n",
    "              self.epoch_losses_valid[epoch] = np.mean(self.iter_losses_valid[range(\n",
    "                    epoch * iter_per_epoch_valid, (epoch + 1) * iter_per_epoch_valid)])\n",
    "              \n",
    "\n",
    "            early_stopping( self.epoch_losses_valid[epoch], self)\n",
    "            if epoch % 10 == 0:\n",
    "                print(\"Epochs: \", epoch, \" Iterations: \", n_iter,\n",
    "                      \" Loss_train: \", self.epoch_losses[epoch])\n",
    "                print(\"Epochs: \", epoch, \" Iterations: \", n_iter,\n",
    "                      \" Loss_valid: \",  self.epoch_losses_valid[epoch])\n",
    "              \n",
    "\n",
    "\n",
    "\n",
    "    def train_forward(self, X, y_prev, y_gt,back=True):\n",
    "        \"\"\"\n",
    "        Forward pass.\n",
    "\n",
    "        Args:\n",
    "            X:\n",
    "            y_prev:\n",
    "            y_gt: Ground truth label\n",
    "\n",
    "        \"\"\"\n",
    "        # zero gradients\n",
    "        self.encoder_optimizer.zero_grad()\n",
    "        self.decoder_optimizer.zero_grad()\n",
    "\n",
    "        input_weighted, input_encoded = self.Encoder(\n",
    "            Variable(torch.from_numpy(X).type(torch.FloatTensor).to(self.device)))\n",
    "        y_pred = self.Decoder(input_encoded, Variable(\n",
    "            torch.from_numpy(y_prev).type(torch.FloatTensor).to(self.device)))\n",
    "\n",
    "        y_true = Variable(torch.from_numpy(\n",
    "            y_gt).type(torch.FloatTensor).to(self.device))\n",
    "\n",
    "        y_true = y_true.view(-1, 1)\n",
    "        loss = self.criterion(y_pred, y_true)\n",
    "        if back :\n",
    "          loss.backward()\n",
    "          self.encoder_optimizer.step()\n",
    "          self.decoder_optimizer.step()\n",
    "\n",
    "        return loss.item()\n",
    "\n",
    "\n",
    "    def test(self, on_train=False):\n",
    "        \"\"\"test.\"\"\"\n",
    "\n",
    "        if on_train:\n",
    "            y_pred = np.zeros(self.train_timesteps - self.T + 1)\n",
    "        else:\n",
    "            y_pred = np.zeros(self.X.shape[0] - (self.train_timesteps + self.valid_timesteps))\n",
    "\n",
    "        i = 0\n",
    "        while i < len(y_pred):\n",
    "            batch_idx = np.array(range(len(y_pred)))[i: (i + self.batch_size)]\n",
    "            X = np.zeros((len(batch_idx), self.T - 1, self.X.shape[1]))\n",
    "            y_history = np.zeros((len(batch_idx), self.T - 1))\n",
    "\n",
    "            for j in range(len(batch_idx)):\n",
    "                if on_train:\n",
    "                    X[j, :, :] = self.X[range(\n",
    "                        batch_idx[j], batch_idx[j] + self.T - 1), :]\n",
    "                    y_history[j, :] = self.y[range(\n",
    "                        batch_idx[j], batch_idx[j] + self.T - 1)]\n",
    "                else:\n",
    "                    X[j, :, :] = self.X[range(\n",
    "                        batch_idx[j] + self.train_timesteps + self.valid_timesteps - self.T, batch_idx[j] + self.train_timesteps + self.valid_timesteps - 1), :]\n",
    "                    y_history[j, :] = self.y[range(\n",
    "                        batch_idx[j] + self.train_timesteps + self.valid_timesteps - self.T, batch_idx[j] + self.train_timesteps + self.valid_timesteps - 1)]\n",
    "\n",
    "            y_history = Variable(torch.from_numpy(\n",
    "                y_history).type(torch.FloatTensor).to(self.device))\n",
    "            _, input_encoded = self.Encoder(\n",
    "                Variable(torch.from_numpy(X).type(torch.FloatTensor).to(self.device)))\n",
    "            y_pred[i:(i + self.batch_size)] = self.Decoder(input_encoded,\n",
    "                                                           y_history).cpu().data.numpy()[:, 0]\n",
    "            i += self.batch_size\n",
    "\n",
    "        return y_pred\n",
    "\n",
    "    "
   ]
  },
  {
   "cell_type": "markdown",
   "metadata": {
    "colab_type": "text",
    "id": "Q7v_B_SV8iHu"
   },
   "source": [
    "Lecture des données NASDAQ :"
   ]
  },
  {
   "cell_type": "code",
   "execution_count": 0,
   "metadata": {
    "colab": {},
    "colab_type": "code",
    "id": "NoFUkg_Elh-P"
   },
   "outputs": [],
   "source": [
    "def read_data(input_path, debug=True):\n",
    "    \"\"\"Read nasdaq stocks data.\n",
    "\n",
    "    Args:\n",
    "        input_path (str): directory to nasdaq dataset.\n",
    "\n",
    "    Returns:\n",
    "        X (np.ndarray): features.\n",
    "        y (np.ndarray): ground truth.\n",
    "\n",
    "    \"\"\"\n",
    "    df = pd.read_csv(input_path)\n",
    "    # X = df.iloc[:, 0:-1].values\n",
    "    X = df.loc[:, [x for x in df.columns.tolist() if x != 'NDX']].as_matrix()\n",
    "    # y = df.iloc[:, -1].values\n",
    "    y = np.array(df.NDX)\n",
    "    if debug :\n",
    "      b=[i*10 for i in range(int(X.shape[0]/10)) ]\n",
    "      X=X[b][:3600]\n",
    "      y=y[b][:3600]\n",
    "\n",
    "    return X, y\n"
   ]
  },
  {
   "cell_type": "markdown",
   "metadata": {
    "colab_type": "text",
    "id": "Ca-OxO-Z8lEt"
   },
   "source": [
    "Train et predict sur les données du NASDAQ :"
   ]
  },
  {
   "cell_type": "code",
   "execution_count": 0,
   "metadata": {
    "colab": {
     "base_uri": "https://localhost:8080/",
     "height": 593
    },
    "colab_type": "code",
    "id": "Jc-8Qvsyv6tt",
    "outputId": "e31164d3-14d2-45ca-d640-820e0440958e"
   },
   "outputs": [
    {
     "name": "stdout",
     "output_type": "stream",
     "text": [
      "==> Load dataset ...\n"
     ]
    },
    {
     "name": "stderr",
     "output_type": "stream",
     "text": [
      "/usr/local/lib/python3.6/dist-packages/ipykernel_launcher.py:14: FutureWarning: Method .as_matrix will be removed in a future version. Use .values instead.\n",
      "  \n"
     ]
    },
    {
     "name": "stdout",
     "output_type": "stream",
     "text": [
      "==> Initialize DA-RNN model ...\n",
      "==> Use accelerator:  cuda:0\n",
      "Nb de données en Train 28392\n",
      "Nb de données en Valid 4056\n",
      "Nb de données en Test 8112\n",
      "==> Start training ...\n"
     ]
    },
    {
     "name": "stderr",
     "output_type": "stream",
     "text": [
      "/usr/local/lib/python3.6/dist-packages/ipykernel_launcher.py:60: UserWarning: Implicit dimension choice for softmax has been deprecated. Change the call to include dim=X as an argument.\n",
      "/usr/local/lib/python3.6/dist-packages/ipykernel_launcher.py:128: UserWarning: Implicit dimension choice for softmax has been deprecated. Change the call to include dim=X as an argument.\n"
     ]
    },
    {
     "ename": "KeyboardInterrupt",
     "evalue": "ignored",
     "output_type": "error",
     "traceback": [
      "\u001b[0;31m---------------------------------------------------------------------------\u001b[0m",
      "\u001b[0;31mKeyboardInterrupt\u001b[0m                         Traceback (most recent call last)",
      "\u001b[0;32m<ipython-input-9-fe9865ed87fb>\u001b[0m in \u001b[0;36m<module>\u001b[0;34m()\u001b[0m\n\u001b[1;32m     31\u001b[0m \u001b[0;31m# Train\u001b[0m\u001b[0;34m\u001b[0m\u001b[0;34m\u001b[0m\u001b[0;34m\u001b[0m\u001b[0m\n\u001b[1;32m     32\u001b[0m \u001b[0mprint\u001b[0m\u001b[0;34m(\u001b[0m\u001b[0;34m\"==> Start training ...\"\u001b[0m\u001b[0;34m)\u001b[0m\u001b[0;34m\u001b[0m\u001b[0;34m\u001b[0m\u001b[0m\n\u001b[0;32m---> 33\u001b[0;31m \u001b[0mmodel\u001b[0m\u001b[0;34m.\u001b[0m\u001b[0mtrain\u001b[0m\u001b[0;34m(\u001b[0m\u001b[0;34m)\u001b[0m\u001b[0;34m\u001b[0m\u001b[0;34m\u001b[0m\u001b[0m\n\u001b[0m\u001b[1;32m     34\u001b[0m \u001b[0;34m\u001b[0m\u001b[0m\n\u001b[1;32m     35\u001b[0m \u001b[0;31m# Prediction\u001b[0m\u001b[0;34m\u001b[0m\u001b[0;34m\u001b[0m\u001b[0;34m\u001b[0m\u001b[0m\n",
      "\u001b[0;32m<ipython-input-7-7aa4ace3a362>\u001b[0m in \u001b[0;36mtrain\u001b[0;34m(self)\u001b[0m\n\u001b[1;32m    259\u001b[0m                     \u001b[0my_prev\u001b[0m\u001b[0;34m[\u001b[0m\u001b[0mbs\u001b[0m\u001b[0;34m,\u001b[0m \u001b[0;34m:\u001b[0m\u001b[0;34m]\u001b[0m \u001b[0;34m=\u001b[0m \u001b[0mself\u001b[0m\u001b[0;34m.\u001b[0m\u001b[0my\u001b[0m\u001b[0;34m[\u001b[0m\u001b[0mindices\u001b[0m\u001b[0;34m[\u001b[0m\u001b[0mbs\u001b[0m\u001b[0;34m]\u001b[0m\u001b[0;34m:\u001b[0m \u001b[0;34m(\u001b[0m\u001b[0mindices\u001b[0m\u001b[0;34m[\u001b[0m\u001b[0mbs\u001b[0m\u001b[0;34m]\u001b[0m \u001b[0;34m+\u001b[0m \u001b[0mself\u001b[0m\u001b[0;34m.\u001b[0m\u001b[0mT\u001b[0m \u001b[0;34m-\u001b[0m \u001b[0;36m1\u001b[0m\u001b[0;34m)\u001b[0m\u001b[0;34m]\u001b[0m\u001b[0;34m\u001b[0m\u001b[0;34m\u001b[0m\u001b[0m\n\u001b[1;32m    260\u001b[0m \u001b[0;34m\u001b[0m\u001b[0m\n\u001b[0;32m--> 261\u001b[0;31m                 \u001b[0mloss\u001b[0m \u001b[0;34m=\u001b[0m \u001b[0mself\u001b[0m\u001b[0;34m.\u001b[0m\u001b[0mtrain_forward\u001b[0m\u001b[0;34m(\u001b[0m\u001b[0mx\u001b[0m\u001b[0;34m,\u001b[0m \u001b[0my_prev\u001b[0m\u001b[0;34m,\u001b[0m \u001b[0my_gt\u001b[0m\u001b[0;34m)\u001b[0m\u001b[0;34m\u001b[0m\u001b[0;34m\u001b[0m\u001b[0m\n\u001b[0m\u001b[1;32m    262\u001b[0m                 \u001b[0mself\u001b[0m\u001b[0;34m.\u001b[0m\u001b[0miter_losses\u001b[0m\u001b[0;34m[\u001b[0m\u001b[0mint\u001b[0m\u001b[0;34m(\u001b[0m\u001b[0mepoch\u001b[0m \u001b[0;34m*\u001b[0m \u001b[0miter_per_epoch\u001b[0m \u001b[0;34m+\u001b[0m \u001b[0midx\u001b[0m \u001b[0;34m/\u001b[0m \u001b[0mself\u001b[0m\u001b[0;34m.\u001b[0m\u001b[0mbatch_size\u001b[0m\u001b[0;34m)\u001b[0m\u001b[0;34m]\u001b[0m \u001b[0;34m=\u001b[0m \u001b[0mloss\u001b[0m\u001b[0;34m\u001b[0m\u001b[0;34m\u001b[0m\u001b[0m\n\u001b[1;32m    263\u001b[0m \u001b[0;34m\u001b[0m\u001b[0m\n",
      "\u001b[0;32m<ipython-input-7-7aa4ace3a362>\u001b[0m in \u001b[0;36mtrain_forward\u001b[0;34m(self, X, y_prev, y_gt, back)\u001b[0m\n\u001b[1;32m    329\u001b[0m         \u001b[0mloss\u001b[0m \u001b[0;34m=\u001b[0m \u001b[0mself\u001b[0m\u001b[0;34m.\u001b[0m\u001b[0mcriterion\u001b[0m\u001b[0;34m(\u001b[0m\u001b[0my_pred\u001b[0m\u001b[0;34m,\u001b[0m \u001b[0my_true\u001b[0m\u001b[0;34m)\u001b[0m\u001b[0;34m\u001b[0m\u001b[0;34m\u001b[0m\u001b[0m\n\u001b[1;32m    330\u001b[0m         \u001b[0;32mif\u001b[0m \u001b[0mback\u001b[0m \u001b[0;34m:\u001b[0m\u001b[0;34m\u001b[0m\u001b[0;34m\u001b[0m\u001b[0m\n\u001b[0;32m--> 331\u001b[0;31m           \u001b[0mloss\u001b[0m\u001b[0;34m.\u001b[0m\u001b[0mbackward\u001b[0m\u001b[0;34m(\u001b[0m\u001b[0;34m)\u001b[0m\u001b[0;34m\u001b[0m\u001b[0;34m\u001b[0m\u001b[0m\n\u001b[0m\u001b[1;32m    332\u001b[0m           \u001b[0mself\u001b[0m\u001b[0;34m.\u001b[0m\u001b[0mencoder_optimizer\u001b[0m\u001b[0;34m.\u001b[0m\u001b[0mstep\u001b[0m\u001b[0;34m(\u001b[0m\u001b[0;34m)\u001b[0m\u001b[0;34m\u001b[0m\u001b[0;34m\u001b[0m\u001b[0m\n\u001b[1;32m    333\u001b[0m           \u001b[0mself\u001b[0m\u001b[0;34m.\u001b[0m\u001b[0mdecoder_optimizer\u001b[0m\u001b[0;34m.\u001b[0m\u001b[0mstep\u001b[0m\u001b[0;34m(\u001b[0m\u001b[0;34m)\u001b[0m\u001b[0;34m\u001b[0m\u001b[0;34m\u001b[0m\u001b[0m\n",
      "\u001b[0;32m/usr/local/lib/python3.6/dist-packages/torch/tensor.py\u001b[0m in \u001b[0;36mbackward\u001b[0;34m(self, gradient, retain_graph, create_graph)\u001b[0m\n\u001b[1;32m    164\u001b[0m                 \u001b[0mproducts\u001b[0m\u001b[0;34m.\u001b[0m \u001b[0mDefaults\u001b[0m \u001b[0mto\u001b[0m\u001b[0;31m \u001b[0m\u001b[0;31m`\u001b[0m\u001b[0;31m`\u001b[0m\u001b[0;32mFalse\u001b[0m\u001b[0;31m`\u001b[0m\u001b[0;31m`\u001b[0m\u001b[0;34m.\u001b[0m\u001b[0;34m\u001b[0m\u001b[0;34m\u001b[0m\u001b[0m\n\u001b[1;32m    165\u001b[0m         \"\"\"\n\u001b[0;32m--> 166\u001b[0;31m         \u001b[0mtorch\u001b[0m\u001b[0;34m.\u001b[0m\u001b[0mautograd\u001b[0m\u001b[0;34m.\u001b[0m\u001b[0mbackward\u001b[0m\u001b[0;34m(\u001b[0m\u001b[0mself\u001b[0m\u001b[0;34m,\u001b[0m \u001b[0mgradient\u001b[0m\u001b[0;34m,\u001b[0m \u001b[0mretain_graph\u001b[0m\u001b[0;34m,\u001b[0m \u001b[0mcreate_graph\u001b[0m\u001b[0;34m)\u001b[0m\u001b[0;34m\u001b[0m\u001b[0;34m\u001b[0m\u001b[0m\n\u001b[0m\u001b[1;32m    167\u001b[0m \u001b[0;34m\u001b[0m\u001b[0m\n\u001b[1;32m    168\u001b[0m     \u001b[0;32mdef\u001b[0m \u001b[0mregister_hook\u001b[0m\u001b[0;34m(\u001b[0m\u001b[0mself\u001b[0m\u001b[0;34m,\u001b[0m \u001b[0mhook\u001b[0m\u001b[0;34m)\u001b[0m\u001b[0;34m:\u001b[0m\u001b[0;34m\u001b[0m\u001b[0;34m\u001b[0m\u001b[0m\n",
      "\u001b[0;32m/usr/local/lib/python3.6/dist-packages/torch/autograd/__init__.py\u001b[0m in \u001b[0;36mbackward\u001b[0;34m(tensors, grad_tensors, retain_graph, create_graph, grad_variables)\u001b[0m\n\u001b[1;32m     97\u001b[0m     Variable._execution_engine.run_backward(\n\u001b[1;32m     98\u001b[0m         \u001b[0mtensors\u001b[0m\u001b[0;34m,\u001b[0m \u001b[0mgrad_tensors\u001b[0m\u001b[0;34m,\u001b[0m \u001b[0mretain_graph\u001b[0m\u001b[0;34m,\u001b[0m \u001b[0mcreate_graph\u001b[0m\u001b[0;34m,\u001b[0m\u001b[0;34m\u001b[0m\u001b[0;34m\u001b[0m\u001b[0m\n\u001b[0;32m---> 99\u001b[0;31m         allow_unreachable=True)  # allow_unreachable flag\n\u001b[0m\u001b[1;32m    100\u001b[0m \u001b[0;34m\u001b[0m\u001b[0m\n\u001b[1;32m    101\u001b[0m \u001b[0;34m\u001b[0m\u001b[0m\n",
      "\u001b[0;31mKeyboardInterrupt\u001b[0m: "
     ]
    }
   ],
   "source": [
    "dataroot = 'nasdaq100_padding.csv'\n",
    "\n",
    "batchsize = 128\n",
    "nhidden_encoder = 128\n",
    "nhidden_decoder = 128\n",
    "ntimestep = 10\n",
    "lr = 0.001\n",
    "epochs = 150\n",
    "\n",
    "\n",
    "\n",
    "\n",
    "# Read dataset\n",
    "print(\"==> Load dataset ...\")\n",
    "X, y = read_data(dataroot, debug=False)\n",
    "\n",
    "\n",
    "# Initialize model\n",
    "print(\"==> Initialize DA-RNN model ...\")\n",
    "model = DA_rnn(\n",
    "    X,\n",
    "    y,\n",
    "    ntimestep,\n",
    "    nhidden_encoder,\n",
    "    nhidden_decoder,\n",
    "    batchsize,\n",
    "    lr,\n",
    "    epochs\n",
    ")\n",
    "\n",
    "# Train\n",
    "print(\"==> Start training ...\")\n",
    "model.train()\n",
    "\n",
    "# Prediction\n",
    "model.load_state_dict(torch.load('checkpoint.pt'))\n",
    "y_pred = model.test()\n"
   ]
  },
  {
   "cell_type": "markdown",
   "metadata": {
    "colab_type": "text",
    "id": "MQ8Fr9lk5lku"
   },
   "source": [
    "Résultats :"
   ]
  },
  {
   "cell_type": "code",
   "execution_count": 0,
   "metadata": {
    "colab": {
     "base_uri": "https://localhost:8080/",
     "height": 316
    },
    "colab_type": "code",
    "id": "G4I4mx1kUutr",
    "outputId": "309731a9-83bd-4279-df48-e3981e366949"
   },
   "outputs": [
    {
     "data": {
      "image/png": "[encoded data removed]",
      "text/plain": [
       "<Figure size 432x288 with 1 Axes>"
      ]
     },
     "metadata": {
      "tags": []
     },
     "output_type": "display_data"
    },
    {
     "name": "stdout",
     "output_type": "stream",
     "text": [
      "MSE en test : 3.660477936884998\n",
      "ecart-type 1.893229885412349\n"
     ]
    }
   ],
   "source": [
    "plt.plot(y[model.train_timesteps+model.valid_timesteps:][:2000], label=\"True\")\n",
    "plt.plot(y_pred[:2000]  + np.mean(y[:model.train_timesteps]),label=\"pred\")\n",
    "plt.title(\"Predictions\")\n",
    "plt.legend()\n",
    "plt.show()\n",
    "print(\"MSE en test :\", mean_squared_error(y[model.train_timesteps+model.valid_timesteps:][:2000], y_pred[:2000] + np.mean(y[:model.train_timesteps])))\n",
    "print(\"ecart-type\",np.std(np.abs(y[model.train_timesteps+model.valid_timesteps:][:2000]-y_pred[:2000] + np.mean(y[:model.train_timesteps]))))"
   ]
  },
  {
   "cell_type": "markdown",
   "metadata": {
    "colab_type": "text",
    "id": "t_HZZaYa5uQY"
   },
   "source": [
    "Comparaison avec un modèle qui dit y(t-1) pour y(t) :"
   ]
  },
  {
   "cell_type": "code",
   "execution_count": 0,
   "metadata": {
    "colab": {
     "base_uri": "https://localhost:8080/",
     "height": 316
    },
    "colab_type": "code",
    "id": "rQb-JM1iJmh7",
    "outputId": "08a7b48b-c5c3-4ca0-b9f3-bf420c0e2fa0"
   },
   "outputs": [
    {
     "data": {
      "image/png": "[encoded data removed]",
      "text/plain": [
       "<Figure size 432x288 with 1 Axes>"
      ]
     },
     "metadata": {
      "tags": []
     },
     "output_type": "display_data"
    },
    {
     "name": "stdout",
     "output_type": "stream",
     "text": [
      "MSE en test : 1.3799495552777008\n",
      "ecart-type 0.8872749127446964\n"
     ]
    }
   ],
   "source": [
    "x_t = y[model.train_timesteps+model.valid_timesteps:][:2000]\n",
    "y_t=np.roll(x_t, 1)[:2000]\n",
    "plt.plot(x_t[1:])\n",
    "plt.plot(y_t[1:])\n",
    "plt.title(\"Prediction one step ahead\")\n",
    "plt.show()\n",
    "print(\"MSE en test :\",mean_squared_error(x_t[1:], y_t[1:]))\n",
    "print(\"ecart-type\",np.std(np.abs(x_t[1:]-y_t[1:])))"
   ]
  },
  {
   "cell_type": "markdown",
   "metadata": {
    "colab_type": "text",
    "id": "OUdounFg54Sp"
   },
   "source": [
    "Loss :"
   ]
  },
  {
   "cell_type": "code",
   "execution_count": 0,
   "metadata": {
    "colab": {
     "base_uri": "https://localhost:8080/",
     "height": 281
    },
    "colab_type": "code",
    "id": "e2FSxb_51de9",
    "outputId": "afaef49e-2bb1-444b-d346-acfb11ec430d"
   },
   "outputs": [
    {
     "data": {
      "image/png": "[encoded data removed]",
      "text/plain": [
       "<Figure size 432x288 with 1 Axes>"
      ]
     },
     "metadata": {
      "tags": []
     },
     "output_type": "display_data"
    }
   ],
   "source": [
    "plt.plot(model.epoch_losses_valid,label=\"valid\")\n",
    "plt.plot(model.epoch_losses,label=\"app\")\n",
    "plt.title(\"LOSS\")\n",
    "plt.legend()\n",
    "plt.show()"
   ]
  },
  {
   "cell_type": "markdown",
   "metadata": {
    "colab_type": "text",
    "id": "mvVzCkhx7CUk"
   },
   "source": [
    "Avec les données du NASDAQ bruitées :"
   ]
  },
  {
   "cell_type": "code",
   "execution_count": 0,
   "metadata": {
    "colab": {
     "base_uri": "https://localhost:8080/",
     "height": 243
    },
    "colab_type": "code",
    "id": "jG7PxyS07E0O",
    "outputId": "5c8d3ea4-dca1-4eec-edae-5b38ba87e57b"
   },
   "outputs": [
    {
     "name": "stdout",
     "output_type": "stream",
     "text": [
      "[[  35.98         96.65808344   93.86576042 ...  -30.52222862\n",
      "   -31.80804668   25.55466548]\n",
      " [  35.931        96.01463274  100.0314081  ...  -73.11724695\n",
      "   -90.95496565   32.82362087]\n",
      " [  35.9044       96.97622763   95.62028474 ... -117.37218195\n",
      "   103.26118709  132.30683011]\n",
      " ...\n",
      " [  48.53        113.6482232   104.38400536 ...   41.34064922\n",
      "     0.15138458    6.772336  ]\n",
      " [  48.56        115.74766919  104.11259956 ...   88.82060352\n",
      "    22.37436913   16.8148002 ]\n",
      " [  48.56        115.71620759  102.12973646 ...   -6.76575454\n",
      "    30.70768234   -9.76684177]]\n"
     ]
    }
   ],
   "source": [
    "X_b=np.zeros(X.shape)\n",
    "for i in range (X.shape[1]) :\n",
    "  X_b[:,i]= X[:,i] + np.random.normal(0,i+1,size=X[:,i].shape)\n",
    "print(X_b)"
   ]
  },
  {
   "cell_type": "code",
   "execution_count": 0,
   "metadata": {
    "colab": {
     "base_uri": "https://localhost:8080/",
     "height": 1000
    },
    "colab_type": "code",
    "id": "pBItZmTS77PK",
    "outputId": "67d9aa43-52ee-4597-96e6-45ce175aeded"
   },
   "outputs": [
    {
     "name": "stdout",
     "output_type": "stream",
     "text": [
      "==> Initialize DA-RNN model ...\n",
      "==> Use accelerator:  cuda:0\n",
      "Nb de données en Train 28392\n",
      "Nb de données en Valid 4056\n",
      "Nb de données en Test 8112\n",
      "==> Start training ...\n"
     ]
    },
    {
     "name": "stderr",
     "output_type": "stream",
     "text": [
      "/usr/local/lib/python3.6/dist-packages/ipykernel_launcher.py:71: UserWarning: Implicit dimension choice for softmax has been deprecated. Change the call to include dim=X as an argument.\n",
      "/usr/local/lib/python3.6/dist-packages/ipykernel_launcher.py:139: UserWarning: Implicit dimension choice for softmax has been deprecated. Change the call to include dim=X as an argument.\n"
     ]
    },
    {
     "name": "stdout",
     "output_type": "stream",
     "text": [
      "Validation loss decreased (inf --> 2191.603249).  Saving model ...\n",
      "Epochs:  0  Iterations:  222  Loss_train:  2572.311758138038\n",
      "Epochs:  0  Iterations:  222  Loss_valid:  2191.603249132633\n",
      "Validation loss decreased (2191.603249 --> 1082.665627).  Saving model ...\n",
      "Validation loss decreased (1082.665627 --> 380.655840).  Saving model ...\n",
      "Validation loss decreased (380.655840 --> 145.961603).  Saving model ...\n",
      "Validation loss decreased (145.961603 --> 80.934675).  Saving model ...\n",
      "Validation loss decreased (80.934675 --> 56.083455).  Saving model ...\n",
      "Validation loss decreased (56.083455 --> 45.338343).  Saving model ...\n",
      "Validation loss decreased (45.338343 --> 36.581982).  Saving model ...\n",
      "Validation loss decreased (36.581982 --> 27.279258).  Saving model ...\n",
      "Epochs:  10  Iterations:  2442  Loss_train:  20.10237748934342\n",
      "Epochs:  10  Iterations:  2442  Loss_valid:  56.785651698708534\n",
      "Epochs:  20  Iterations:  4662  Loss_train:  26.484703807680457\n",
      "Epochs:  20  Iterations:  4662  Loss_valid:  37.980031222105026\n",
      "Validation loss decreased (27.279258 --> 25.292532).  Saving model ...\n",
      "Validation loss decreased (25.292532 --> 24.406086).  Saving model ...\n",
      "Validation loss decreased (24.406086 --> 20.302604).  Saving model ...\n",
      "Epochs:  30  Iterations:  6882  Loss_train:  14.742805175953084\n",
      "Epochs:  30  Iterations:  6882  Loss_valid:  65.89944263547659\n",
      "Epochs:  40  Iterations:  9102  Loss_train:  10.494326267156515\n",
      "Epochs:  40  Iterations:  9102  Loss_valid:  21.879531666636467\n",
      "Epochs:  50  Iterations:  11322  Loss_train:  9.40848277066205\n",
      "Epochs:  50  Iterations:  11322  Loss_valid:  21.877446852624416\n",
      "Validation loss decreased (20.302604 --> 19.396062).  Saving model ...\n",
      "Validation loss decreased (19.396062 --> 18.691728).  Saving model ...\n",
      "Validation loss decreased (18.691728 --> 17.600779).  Saving model ...\n",
      "Epochs:  60  Iterations:  13542  Loss_train:  6.799149971287529\n",
      "Epochs:  60  Iterations:  13542  Loss_valid:  17.600779239088297\n",
      "Validation loss decreased (17.600779 --> 17.408961).  Saving model ...\n",
      "Epochs:  70  Iterations:  15762  Loss_train:  14.704916934709292\n",
      "Epochs:  70  Iterations:  15762  Loss_valid:  27.287208706140518\n",
      "Epochs:  80  Iterations:  17982  Loss_train:  7.6241712017102286\n",
      "Epochs:  80  Iterations:  17982  Loss_valid:  25.266692832112312\n",
      "Validation loss decreased (17.408961 --> 17.076775).  Saving model ...\n",
      "Validation loss decreased (17.076775 --> 17.020680).  Saving model ...\n",
      "Epochs:  90  Iterations:  20202  Loss_train:  6.016331535738868\n",
      "Epochs:  90  Iterations:  20202  Loss_valid:  20.130851104855537\n",
      "Epochs:  100  Iterations:  22422  Loss_train:  6.354598876860765\n",
      "Epochs:  100  Iterations:  22422  Loss_valid:  17.798927418887615\n",
      "Validation loss decreased (17.020680 --> 16.590808).  Saving model ...\n",
      "Validation loss decreased (16.590808 --> 16.332432).  Saving model ...\n",
      "Epochs:  110  Iterations:  24642  Loss_train:  6.151974614944544\n",
      "Epochs:  110  Iterations:  24642  Loss_valid:  19.137742299586535\n",
      "Epochs:  120  Iterations:  26862  Loss_train:  6.518214437607172\n",
      "Epochs:  120  Iterations:  26862  Loss_valid:  20.398520924150944\n",
      "Epochs:  130  Iterations:  29082  Loss_train:  6.040348931207313\n",
      "Epochs:  130  Iterations:  29082  Loss_valid:  23.55829831957817\n",
      "Epochs:  140  Iterations:  31302  Loss_train:  5.191190793707564\n",
      "Epochs:  140  Iterations:  31302  Loss_valid:  17.197418056428432\n"
     ]
    }
   ],
   "source": [
    "# Initialize model\n",
    "print(\"==> Initialize DA-RNN model ...\")\n",
    "model = DA_rnn(\n",
    "    X_b,\n",
    "    y,\n",
    "    ntimestep,\n",
    "    nhidden_encoder,\n",
    "    nhidden_decoder,\n",
    "    batchsize,\n",
    "    lr,\n",
    "    epochs\n",
    ")\n",
    "\n",
    "# Train\n",
    "print(\"==> Start training ...\")\n",
    "model.train()\n",
    "\n",
    "# Prediction\n",
    "model.load_state_dict(torch.load('checkpoint.pt'))\n",
    "y_pred = model.test()\n"
   ]
  },
  {
   "cell_type": "code",
   "execution_count": 0,
   "metadata": {
    "colab": {
     "base_uri": "https://localhost:8080/",
     "height": 316
    },
    "colab_type": "code",
    "id": "CiYfKuczCG7k",
    "outputId": "5f6c4beb-2ec9-4fd2-d82b-b677d9663e66"
   },
   "outputs": [
    {
     "data": {
      "image/png": "[encoded data removed]",
      "text/plain": [
       "<Figure size 432x288 with 1 Axes>"
      ]
     },
     "metadata": {
      "tags": []
     },
     "output_type": "display_data"
    },
    {
     "name": "stdout",
     "output_type": "stream",
     "text": [
      "MSE en test : 5.576037078072961\n",
      "ecart-type 1.9254504958554903\n"
     ]
    }
   ],
   "source": [
    "plt.plot(y[model.train_timesteps+model.valid_timesteps:][:2000], label=\"True\")\n",
    "plt.plot(y_pred[:2000]  + np.mean(y[:model.train_timesteps]),label=\"pred\")\n",
    "plt.title(\"Predictions\")\n",
    "plt.legend()\n",
    "plt.show()\n",
    "print(\"MSE en test :\", mean_squared_error(y[model.train_timesteps+model.valid_timesteps:][:2000], y_pred[:2000] + np.mean(y[:model.train_timesteps])))\n",
    "print(\"ecart-type\",np.std(np.abs(y[model.train_timesteps+model.valid_timesteps:][:2000]-y_pred[:2000] + np.mean(y[:model.train_timesteps]))))"
   ]
  },
  {
   "cell_type": "markdown",
   "metadata": {
    "colab_type": "text",
    "id": "hraqADRWC97i"
   },
   "source": [
    "Avec un timestep plus grand (on prends un point tout les 10 points):\n"
   ]
  },
  {
   "cell_type": "code",
   "execution_count": 0,
   "metadata": {
    "colab": {
     "base_uri": "https://localhost:8080/",
     "height": 1000
    },
    "colab_type": "code",
    "id": "MDLyE3ZXDAba",
    "outputId": "fd2c29f6-f233-47eb-9a87-5e30493c5654"
   },
   "outputs": [
    {
     "name": "stdout",
     "output_type": "stream",
     "text": [
      "==> Load dataset ...\n"
     ]
    },
    {
     "name": "stderr",
     "output_type": "stream",
     "text": [
      "/usr/local/lib/python3.6/dist-packages/ipykernel_launcher.py:14: FutureWarning: Method .as_matrix will be removed in a future version. Use .values instead.\n",
      "  \n",
      "/usr/local/lib/python3.6/dist-packages/ipykernel_launcher.py:71: UserWarning: Implicit dimension choice for softmax has been deprecated. Change the call to include dim=X as an argument.\n",
      "/usr/local/lib/python3.6/dist-packages/ipykernel_launcher.py:139: UserWarning: Implicit dimension choice for softmax has been deprecated. Change the call to include dim=X as an argument.\n"
     ]
    },
    {
     "name": "stdout",
     "output_type": "stream",
     "text": [
      "==> Initialize DA-RNN model ...\n",
      "==> Use accelerator:  cuda:0\n",
      "Nb de données en Train 2520\n",
      "Nb de données en Valid 360\n",
      "Nb de données en Test 720\n",
      "==> Start training ...\n",
      "Validation loss decreased (inf --> 4765.302327).  Saving model ...\n",
      "Epochs:  0  Iterations:  20  Loss_train:  2740.646106147766\n",
      "Epochs:  0  Iterations:  20  Loss_valid:  4765.302327473958\n",
      "Validation loss decreased (4765.302327 --> 4594.378784).  Saving model ...\n",
      "Validation loss decreased (4594.378784 --> 4396.799683).  Saving model ...\n",
      "Validation loss decreased (4396.799683 --> 4101.695475).  Saving model ...\n",
      "Validation loss decreased (4101.695475 --> 3903.890218).  Saving model ...\n",
      "Validation loss decreased (3903.890218 --> 3720.246053).  Saving model ...\n",
      "Validation loss decreased (3720.246053 --> 3451.689209).  Saving model ...\n",
      "Validation loss decreased (3451.689209 --> 3015.249552).  Saving model ...\n",
      "Validation loss decreased (3015.249552 --> 2939.175720).  Saving model ...\n",
      "Validation loss decreased (2939.175720 --> 2809.683350).  Saving model ...\n",
      "Epochs:  10  Iterations:  220  Loss_train:  1404.3962371826171\n",
      "Epochs:  10  Iterations:  220  Loss_valid:  2809.683349609375\n",
      "Validation loss decreased (2809.683350 --> 2738.200419).  Saving model ...\n",
      "Validation loss decreased (2738.200419 --> 2519.678263).  Saving model ...\n",
      "Validation loss decreased (2519.678263 --> 2478.318542).  Saving model ...\n",
      "Validation loss decreased (2478.318542 --> 2156.818319).  Saving model ...\n",
      "Validation loss decreased (2156.818319 --> 2081.281453).  Saving model ...\n",
      "Validation loss decreased (2081.281453 --> 2003.151001).  Saving model ...\n",
      "Validation loss decreased (2003.151001 --> 1874.471446).  Saving model ...\n",
      "Validation loss decreased (1874.471446 --> 1596.627411).  Saving model ...\n",
      "Epochs:  20  Iterations:  420  Loss_train:  788.3438656806945\n",
      "Epochs:  20  Iterations:  420  Loss_valid:  1596.6274108886719\n",
      "Validation loss decreased (1596.627411 --> 1570.918701).  Saving model ...\n",
      "Validation loss decreased (1570.918701 --> 1548.549642).  Saving model ...\n",
      "Validation loss decreased (1548.549642 --> 1545.492208).  Saving model ...\n",
      "Validation loss decreased (1545.492208 --> 1493.585729).  Saving model ...\n",
      "Validation loss decreased (1493.585729 --> 1427.241552).  Saving model ...\n",
      "Validation loss decreased (1427.241552 --> 1215.743139).  Saving model ...\n",
      "Epochs:  30  Iterations:  620  Loss_train:  466.92926387786866\n",
      "Epochs:  30  Iterations:  620  Loss_valid:  1277.439905802409\n",
      "Validation loss decreased (1215.743139 --> 973.784045).  Saving model ...\n",
      "Epochs:  40  Iterations:  820  Loss_train:  292.67405290603637\n",
      "Epochs:  40  Iterations:  820  Loss_valid:  986.2416687011719\n",
      "Validation loss decreased (973.784045 --> 954.093475).  Saving model ...\n",
      "Validation loss decreased (954.093475 --> 900.616198).  Saving model ...\n",
      "Validation loss decreased (900.616198 --> 879.152893).  Saving model ...\n",
      "Validation loss decreased (879.152893 --> 848.406077).  Saving model ...\n",
      "Validation loss decreased (848.406077 --> 804.438479).  Saving model ...\n",
      "Validation loss decreased (804.438479 --> 778.210553).  Saving model ...\n",
      "Validation loss decreased (778.210553 --> 769.504829).  Saving model ...\n",
      "Epochs:  50  Iterations:  1020  Loss_train:  194.61005573272706\n",
      "Epochs:  50  Iterations:  1020  Loss_valid:  781.4900919596354\n",
      "Validation loss decreased (769.504829 --> 750.506955).  Saving model ...\n",
      "Validation loss decreased (750.506955 --> 746.647392).  Saving model ...\n",
      "Validation loss decreased (746.647392 --> 719.784182).  Saving model ...\n",
      "Validation loss decreased (719.784182 --> 710.323672).  Saving model ...\n",
      "Validation loss decreased (710.323672 --> 646.784051).  Saving model ...\n",
      "Validation loss decreased (646.784051 --> 588.052902).  Saving model ...\n",
      "Validation loss decreased (588.052902 --> 581.891163).  Saving model ...\n",
      "Epochs:  60  Iterations:  1220  Loss_train:  143.36643800735473\n",
      "Epochs:  60  Iterations:  1220  Loss_valid:  596.0087941487631\n",
      "Validation loss decreased (581.891163 --> 568.861113).  Saving model ...\n",
      "Validation loss decreased (568.861113 --> 558.317924).  Saving model ...\n",
      "Validation loss decreased (558.317924 --> 553.787075).  Saving model ...\n",
      "Validation loss decreased (553.787075 --> 507.143349).  Saving model ...\n",
      "Validation loss decreased (507.143349 --> 488.661035).  Saving model ...\n",
      "Epochs:  70  Iterations:  1420  Loss_train:  110.7889277458191\n",
      "Epochs:  70  Iterations:  1420  Loss_valid:  561.8625691731771\n",
      "Validation loss decreased (488.661035 --> 412.276822).  Saving model ...\n",
      "Epochs:  80  Iterations:  1620  Loss_train:  94.14112634658814\n",
      "Epochs:  80  Iterations:  1620  Loss_valid:  446.22941970825195\n",
      "Validation loss decreased (412.276822 --> 387.356434).  Saving model ...\n",
      "Validation loss decreased (387.356434 --> 360.330372).  Saving model ...\n",
      "Validation loss decreased (360.330372 --> 351.741633).  Saving model ...\n",
      "Validation loss decreased (351.741633 --> 328.260259).  Saving model ...\n",
      "Epochs:  90  Iterations:  1820  Loss_train:  78.53333005905151\n",
      "Epochs:  90  Iterations:  1820  Loss_valid:  328.260258992513\n",
      "Validation loss decreased (328.260259 --> 275.461371).  Saving model ...\n",
      "Epochs:  100  Iterations:  2020  Loss_train:  69.87701539993286\n",
      "Epochs:  100  Iterations:  2020  Loss_valid:  316.064027150472\n",
      "Validation loss decreased (275.461371 --> 249.248890).  Saving model ...\n",
      "Epochs:  110  Iterations:  2220  Loss_train:  62.83146076202392\n",
      "Epochs:  110  Iterations:  2220  Loss_valid:  258.40975697835285\n",
      "Validation loss decreased (249.248890 --> 240.215861).  Saving model ...\n",
      "Validation loss decreased (240.215861 --> 238.991828).  Saving model ...\n",
      "Validation loss decreased (238.991828 --> 236.210224).  Saving model ...\n",
      "Epochs:  120  Iterations:  2420  Loss_train:  59.531173610687254\n",
      "Epochs:  120  Iterations:  2420  Loss_valid:  236.21022415161133\n",
      "Validation loss decreased (236.210224 --> 230.760122).  Saving model ...\n",
      "Validation loss decreased (230.760122 --> 220.569519).  Saving model ...\n",
      "Validation loss decreased (220.569519 --> 219.073931).  Saving model ...\n",
      "Validation loss decreased (219.073931 --> 210.730578).  Saving model ...\n",
      "Epochs:  130  Iterations:  2620  Loss_train:  55.09366931915283\n",
      "Epochs:  130  Iterations:  2620  Loss_valid:  211.73435719807944\n",
      "Validation loss decreased (210.730578 --> 196.171641).  Saving model ...\n",
      "Epochs:  140  Iterations:  2820  Loss_train:  61.21474494934082\n",
      "Epochs:  140  Iterations:  2820  Loss_valid:  230.74105326334634\n",
      "Validation loss decreased (196.171641 --> 165.396688).  Saving model ...\n",
      "Validation loss decreased (165.396688 --> 163.450520).  Saving model ...\n"
     ]
    }
   ],
   "source": [
    "# Read dataset\n",
    "print(\"==> Load dataset ...\")\n",
    "X, y = read_data(dataroot, debug=True)\n",
    "\n",
    "\n",
    "# Initialize model\n",
    "print(\"==> Initialize DA-RNN model ...\")\n",
    "model = DA_rnn(\n",
    "    X,\n",
    "    y,\n",
    "    ntimestep,\n",
    "    nhidden_encoder,\n",
    "    nhidden_decoder,\n",
    "    batchsize,\n",
    "    lr,\n",
    "    epochs\n",
    ")\n",
    "\n",
    "# Train\n",
    "print(\"==> Start training ...\")\n",
    "model.train()\n",
    "\n",
    "# Prediction\n",
    "model.load_state_dict(torch.load('checkpoint.pt'))\n",
    "y_pred = model.test()"
   ]
  },
  {
   "cell_type": "code",
   "execution_count": 0,
   "metadata": {
    "colab": {
     "base_uri": "https://localhost:8080/",
     "height": 316
    },
    "colab_type": "code",
    "id": "IrGiQ30qEdqt",
    "outputId": "8f1b3265-9e8b-41b6-afdb-91bdb7f73ac0"
   },
   "outputs": [
    {
     "data": {
      "image/png": "[encoded data removed]",
      "text/plain": [
       "<Figure size 432x288 with 1 Axes>"
      ]
     },
     "metadata": {
      "tags": []
     },
     "output_type": "display_data"
    },
    {
     "name": "stdout",
     "output_type": "stream",
     "text": [
      "MSE en test : 145.54385377720925\n",
      "ecart-type 12.064094172806907\n"
     ]
    }
   ],
   "source": [
    "plt.plot(y[model.train_timesteps+model.valid_timesteps:], label=\"True\")\n",
    "plt.plot(y_pred  + np.mean(y[:model.train_timesteps]),label=\"pred\")\n",
    "plt.title(\"Predictions \")\n",
    "plt.legend()\n",
    "plt.show()\n",
    "print(\"MSE en test :\", mean_squared_error(y[model.train_timesteps+model.valid_timesteps:], y_pred + np.mean(y[:model.train_timesteps])))\n",
    "print(\"ecart-type\",np.std(np.abs(y[model.train_timesteps+model.valid_timesteps:]-y_pred + np.mean(y[:model.train_timesteps]))))"
   ]
  },
  {
   "cell_type": "code",
   "execution_count": 0,
   "metadata": {
    "colab": {
     "base_uri": "https://localhost:8080/",
     "height": 316
    },
    "colab_type": "code",
    "id": "ODtbMVxbEp9W",
    "outputId": "e10ec0e1-ba9a-4ba6-ea42-8af8f5c2d58a"
   },
   "outputs": [
    {
     "data": {
      "image/png": "[encoded data removed]",
      "text/plain": [
       "<Figure size 432x288 with 1 Axes>"
      ]
     },
     "metadata": {
      "tags": []
     },
     "output_type": "display_data"
    },
    {
     "name": "stdout",
     "output_type": "stream",
     "text": [
      "MSE en test : 53.43702527677403\n",
      "ecart-type 5.668992680982279\n"
     ]
    }
   ],
   "source": [
    "x_t = y[model.train_timesteps+model.valid_timesteps:]\n",
    "y_t=np.roll(x_t, 1)\n",
    "plt.plot(x_t[1:])\n",
    "plt.plot(y_t[1:])\n",
    "plt.title(\"Prediction one step ahead\")\n",
    "plt.show()\n",
    "print(\"MSE en test :\",mean_squared_error(x_t[1:], y_t[1:]))\n",
    "print(\"ecart-type\",np.std(np.abs(x_t[1:]-y_t[1:])))"
   ]
  },
  {
   "cell_type": "code",
   "execution_count": 0,
   "metadata": {
    "colab": {
     "base_uri": "https://localhost:8080/",
     "height": 281
    },
    "colab_type": "code",
    "id": "OI-NKwGwE0bo",
    "outputId": "02ecccc9-f34f-4929-ea18-34674089df0b"
   },
   "outputs": [
    {
     "data": {
      "image/png": "[encoded data removed]",
      "text/plain": [
       "<Figure size 432x288 with 1 Axes>"
      ]
     },
     "metadata": {
      "tags": []
     },
     "output_type": "display_data"
    }
   ],
   "source": [
    "plt.plot(model.epoch_losses_valid,label=\"valid\")\n",
    "plt.plot(model.epoch_losses,label=\"app\")\n",
    "plt.title(\"LOSS\")\n",
    "plt.legend()\n",
    "plt.show()"
   ]
  },
  {
   "cell_type": "markdown",
   "metadata": {
    "colab_type": "text",
    "id": "UL5JoD0CDZL9"
   },
   "source": [
    "Avec les données du CAC 40 :"
   ]
  },
  {
   "cell_type": "code",
   "execution_count": 0,
   "metadata": {
    "colab": {},
    "colab_type": "code",
    "id": "yJUbYVi0DcGO"
   },
   "outputs": [],
   "source": [
    "def read_stock_yahoo(rootpath,path_list):\n",
    "  #Selectione seulement la colone voulue\n",
    "  df1=pd.read_csv(rootpath+'/'+path_list[0])\n",
    "  df1=df1[[\"Date\",\"Close\"]]\n",
    "  for path in path_list[1:] :\n",
    "    df2=pd.read_csv(rootpath+'/'+path)\n",
    "    join=pd.merge(df1,df2[[\"Date\",\"Close\"]],on=[\"Date\"])\n",
    "    df1=join.copy()\n",
    "  #Mets les bons noms aux bonnes colones\n",
    "  for i in range(0,len(path_list)):\n",
    "    col_name='Close_'+path_list[i][:-4] \n",
    "    df1.rename(columns={ df1.columns[i+1] : col_name }, inplace = True)\n",
    "\n",
    "  return df1"
   ]
  },
  {
   "cell_type": "code",
   "execution_count": 0,
   "metadata": {
    "colab": {},
    "colab_type": "code",
    "id": "Z5UWGgUcDmu0"
   },
   "outputs": [],
   "source": [
    "rootpath=\"RNN_CAC/CAC40-Data/\"\n",
    "path_list=['AIR.PA.csv','ORA.PA.csv','ENGI.PA.csv','HO.PA.csv',\n",
    "           'MC.PA.csv','VIV.PA.csv','SAN.PA.csv','FP.PA.csv',\n",
    "           'FTI.PA.csv','OR.PA.csv','VIE.PA.csv','RI.PA.csv','FCHI.csv']\n",
    "df=read_stock_yahoo(rootpath,path_list)\n",
    "df.head()\n",
    "\n",
    "X = np.array(df.iloc[:, 1:-1].values)\n",
    "y = np.array(df.iloc[:, -1].values)\n",
    "s = pd.DataFrame(X)\n",
    "X=np.array(s.interpolate(method='linear', limit_direction='forward', axis=0))\n",
    "\n",
    "batchsize = 30\n",
    "nhidden_encoder = 128\n",
    "nhidden_decoder = 128\n",
    "ntimestep = 10\n",
    "lr = 0.001\n",
    "epochs = 100"
   ]
  },
  {
   "cell_type": "code",
   "execution_count": 0,
   "metadata": {
    "colab": {
     "base_uri": "https://localhost:8080/",
     "height": 784
    },
    "colab_type": "code",
    "id": "p1IFk5DrDwmZ",
    "outputId": "d29e3a22-aff3-4734-e4ac-3b35c05ff1e4"
   },
   "outputs": [
    {
     "name": "stdout",
     "output_type": "stream",
     "text": [
      "==> Initialize DA-RNN model ...\n",
      "==> Use accelerator:  cuda:0\n",
      "Nb de données en Train 893\n",
      "Nb de données en Valid 127\n",
      "Nb de données en Test 257\n",
      "==> Start training ...\n"
     ]
    },
    {
     "name": "stderr",
     "output_type": "stream",
     "text": [
      "/usr/local/lib/python3.6/dist-packages/ipykernel_launcher.py:71: UserWarning: Implicit dimension choice for softmax has been deprecated. Change the call to include dim=X as an argument.\n",
      "/usr/local/lib/python3.6/dist-packages/ipykernel_launcher.py:139: UserWarning: Implicit dimension choice for softmax has been deprecated. Change the call to include dim=X as an argument.\n"
     ]
    },
    {
     "name": "stdout",
     "output_type": "stream",
     "text": [
      "Validation loss decreased (inf --> 204269.425781).  Saving model ...\n",
      "Epochs:  0  Iterations:  30  Loss_train:  167766.09166666667\n",
      "Epochs:  0  Iterations:  30  Loss_valid:  204269.42578125\n",
      "Validation loss decreased (204269.425781 --> 202380.170508).  Saving model ...\n",
      "Validation loss decreased (202380.170508 --> 199675.882031).  Saving model ...\n",
      "Validation loss decreased (199675.882031 --> 196694.929883).  Saving model ...\n",
      "Validation loss decreased (196694.929883 --> 192603.448047).  Saving model ...\n",
      "Validation loss decreased (192603.448047 --> 186043.445898).  Saving model ...\n",
      "Validation loss decreased (186043.445898 --> 179576.427344).  Saving model ...\n",
      "Validation loss decreased (179576.427344 --> 174680.814746).  Saving model ...\n",
      "Validation loss decreased (174680.814746 --> 171836.826953).  Saving model ...\n",
      "Validation loss decreased (171836.826953 --> 165479.783984).  Saving model ...\n",
      "Validation loss decreased (165479.783984 --> 161088.258984).  Saving model ...\n",
      "Epochs:  10  Iterations:  330  Loss_train:  132005.54581298828\n",
      "Epochs:  10  Iterations:  330  Loss_valid:  161088.258984375\n",
      "Validation loss decreased (161088.258984 --> 157842.727539).  Saving model ...\n",
      "Validation loss decreased (157842.727539 --> 153871.475781).  Saving model ...\n",
      "Validation loss decreased (153871.475781 --> 150184.849463).  Saving model ...\n",
      "Validation loss decreased (150184.849463 --> 146720.220508).  Saving model ...\n",
      "Validation loss decreased (146720.220508 --> 143209.829980).  Saving model ...\n",
      "Validation loss decreased (143209.829980 --> 140048.643457).  Saving model ...\n",
      "Validation loss decreased (140048.643457 --> 136857.049487).  Saving model ...\n",
      "Validation loss decreased (136857.049487 --> 133854.790820).  Saving model ...\n",
      "Validation loss decreased (133854.790820 --> 130930.582227).  Saving model ...\n",
      "Validation loss decreased (130930.582227 --> 128240.286035).  Saving model ...\n",
      "Epochs:  20  Iterations:  630  Loss_train:  101798.1924601237\n",
      "Epochs:  20  Iterations:  630  Loss_valid:  128240.28603515626\n",
      "Validation loss decreased (128240.286035 --> 125280.433398).  Saving model ...\n",
      "Validation loss decreased (125280.433398 --> 122675.379614).  Saving model ...\n",
      "Validation loss decreased (122675.379614 --> 120041.218604).  Saving model ...\n",
      "Validation loss decreased (120041.218604 --> 117551.079150).  Saving model ...\n",
      "Validation loss decreased (117551.079150 --> 115005.765771).  Saving model ...\n",
      "Validation loss decreased (115005.765771 --> 112600.962964).  Saving model ...\n",
      "Validation loss decreased (112600.962964 --> 110274.339526).  Saving model ...\n",
      "Validation loss decreased (110274.339526 --> 107806.679785).  Saving model ...\n"
     ]
    }
   ],
   "source": [
    "# Initialize model\n",
    "print(\"==> Initialize DA-RNN model ...\")\n",
    "model = DA_rnn(\n",
    "    X,\n",
    "    y,\n",
    "    ntimestep,\n",
    "    nhidden_encoder,\n",
    "    nhidden_decoder,\n",
    "    batchsize,\n",
    "    lr,\n",
    "    epochs\n",
    ")\n",
    "\n",
    "# Train\n",
    "print(\"==> Start training ...\")\n",
    "model.train()\n",
    "\n",
    "# Prediction\n",
    "model.load_state_dict(torch.load('checkpoint.pt'))\n",
    "y_pred = model.test()"
   ]
  },
  {
   "cell_type": "markdown",
   "metadata": {
    "colab_type": "text",
    "id": "FWtjkPD66IUw"
   },
   "source": [
    "Prédictions :"
   ]
  },
  {
   "cell_type": "code",
   "execution_count": 0,
   "metadata": {
    "colab": {
     "base_uri": "https://localhost:8080/",
     "height": 298
    },
    "colab_type": "code",
    "id": "HSl5fvw5Dx0Q",
    "outputId": "6d482ccc-b3a6-4751-d896-f8f1e93330e8"
   },
   "outputs": [
    {
     "data": {
      "image/png": "[encoded data removed]",
      "text/plain": [
       "<Figure size 432x288 with 1 Axes>"
      ]
     },
     "metadata": {
      "tags": []
     },
     "output_type": "display_data"
    },
    {
     "data": {
      "text/plain": [
       "23932.53394420369"
      ]
     },
     "execution_count": 75,
     "metadata": {
      "tags": []
     },
     "output_type": "execute_result"
    }
   ],
   "source": [
    "plt.plot(y[model.train_timesteps+model.valid_timesteps:], label=\"True\")\n",
    "plt.plot(y_pred   + np.mean(y[:model.train_timesteps]),label=\"pred\")\n",
    "plt.title(\"Predictions\")\n",
    "plt.legend()\n",
    "plt.show()\n",
    "print(\"MSE en test :\" ,mean_squared_error(y[model.train_timesteps+model.valid_timesteps:], y_pred+ np.mean(y[:model.train_timesteps])))\n",
    "print(\"ecart-type\",np.std(np.abs(y[model.train_timesteps+model.valid_timesteps:]-y_pred + np.mean(y[:model.train_timesteps]))))"
   ]
  },
  {
   "cell_type": "markdown",
   "metadata": {
    "colab_type": "text",
    "id": "Zuv2ZW8s6PoL"
   },
   "source": [
    "Modèle qui predit y(t-1) pour y(t) :"
   ]
  },
  {
   "cell_type": "code",
   "execution_count": 0,
   "metadata": {
    "colab": {
     "base_uri": "https://localhost:8080/",
     "height": 298
    },
    "colab_type": "code",
    "id": "oTE0zdrWD4RS",
    "outputId": "7fa1683d-2fa6-405e-b2c1-7bb095ab9218"
   },
   "outputs": [
    {
     "data": {
      "image/png": "[encoded data removed]",
      "text/plain": [
       "<Figure size 432x288 with 1 Axes>"
      ]
     },
     "metadata": {
      "tags": []
     },
     "output_type": "display_data"
    },
    {
     "data": {
      "text/plain": [
       "2091.942119454211"
      ]
     },
     "execution_count": 25,
     "metadata": {
      "tags": []
     },
     "output_type": "execute_result"
    }
   ],
   "source": [
    "x_t = y[model.train_timesteps+model.valid_timesteps:]\n",
    "y_t=np.roll(x_t, 1)\n",
    "plt.plot(x_t[1:])\n",
    "plt.plot(y_t[1:])\n",
    "plt.title(\"Prediction one step ahead\")\n",
    "plt.show()\n",
    "print(\"MSE en test de :\",mean_squared_error(x_t[1:], y_t[1:]))\n",
    "print(\"ecart-type\",np.std(np.abs(x_t[1:]-y_t[1:])))"
   ]
  },
  {
   "cell_type": "markdown",
   "metadata": {
    "colab_type": "text",
    "id": "CRtwxS3a6zWa"
   },
   "source": [
    "LOSS :"
   ]
  },
  {
   "cell_type": "code",
   "execution_count": 0,
   "metadata": {
    "colab": {
     "base_uri": "https://localhost:8080/",
     "height": 281
    },
    "colab_type": "code",
    "id": "tG6wdu0JD8CQ",
    "outputId": "cde4c2da-1251-4fae-dd7a-7c84a9db9b4a"
   },
   "outputs": [
    {
     "data": {
      "image/png": "[encoded data removed]",
      "text/plain": [
       "<Figure size 432x288 with 1 Axes>"
      ]
     },
     "metadata": {
      "tags": []
     },
     "output_type": "display_data"
    }
   ],
   "source": [
    "plt.plot(model.epoch_losses_valid,label=\"valid\")\n",
    "plt.plot(model.epoch_losses,label=\"app\")\n",
    "plt.title(\"LOSS\")\n",
    "plt.legend()\n",
    "plt.show()"
   ]
  },
  {
   "cell_type": "markdown",
   "metadata": {
    "colab_type": "text",
    "id": "P_evuXohS0xi"
   },
   "source": [
    "Avec des données de cryptomonnaies :"
   ]
  },
  {
   "cell_type": "code",
   "execution_count": 0,
   "metadata": {
    "colab": {},
    "colab_type": "code",
    "id": "mlSsYAgJS0EH"
   },
   "outputs": [],
   "source": [
    "def read_crypto(input_path, debug=True):\n",
    "    \"\"\"Read nasdaq stocks data.\n",
    "\n",
    "    Args:\n",
    "        input_path (str): directory to nasdaq dataset.\n",
    "\n",
    "    Returns:\n",
    "        X (np.ndarray): features.\n",
    "        y (np.ndarray): ground truth.\n",
    "\n",
    "    \"\"\"\n",
    "    df = pd.read_csv(input_path)\n",
    "    # X = df.iloc[:, 0:-1].values\n",
    "    X = df.loc[:, [x for x in df.columns.tolist() if x != \"close\"]].as_matrix()\n",
    "    # y = df.iloc[:, -1].values\n",
    "    y = np.array(df.close)\n",
    "\n",
    "    return X, y"
   ]
  },
  {
   "cell_type": "code",
   "execution_count": 5,
   "metadata": {
    "colab": {
     "base_uri": "https://localhost:8080/",
     "height": 52
    },
    "colab_type": "code",
    "id": "7cskSKMwTA_e",
    "outputId": "d0a13cc4-4616-42b6-b86a-85bb07a3a958"
   },
   "outputs": [
    {
     "name": "stderr",
     "output_type": "stream",
     "text": [
      "/usr/local/lib/python3.6/dist-packages/ipykernel_launcher.py:14: FutureWarning: Method .as_matrix will be removed in a future version. Use .values instead.\n",
      "  \n"
     ]
    }
   ],
   "source": [
    "X,y = read_crypto(\"join2.csv\")\n",
    "\n",
    "batchsize = 30\n",
    "nhidden_encoder = 30\n",
    "nhidden_decoder = 30\n",
    "ntimestep = 5\n",
    "lr = 0.001\n",
    "epochs = 200"
   ]
  },
  {
   "cell_type": "code",
   "execution_count": 7,
   "metadata": {
    "colab": {
     "base_uri": "https://localhost:8080/",
     "height": 1000
    },
    "colab_type": "code",
    "id": "5bD88y0fTN_P",
    "outputId": "76e504be-6bc3-4d57-dfd8-c799d30a9f67"
   },
   "outputs": [
    {
     "name": "stdout",
     "output_type": "stream",
     "text": [
      "==> Initialize DA-RNN model ...\n",
      "==> Use accelerator:  cuda:0\n",
      "Nb de données en Train 592\n",
      "Nb de données en Valid 84\n",
      "Nb de données en Test 170\n",
      "==> Start training ...\n"
     ]
    },
    {
     "name": "stderr",
     "output_type": "stream",
     "text": [
      "/usr/local/lib/python3.6/dist-packages/ipykernel_launcher.py:60: UserWarning: Implicit dimension choice for softmax has been deprecated. Change the call to include dim=X as an argument.\n",
      "/usr/local/lib/python3.6/dist-packages/ipykernel_launcher.py:128: UserWarning: Implicit dimension choice for softmax has been deprecated. Change the call to include dim=X as an argument.\n"
     ]
    },
    {
     "name": "stdout",
     "output_type": "stream",
     "text": [
      "Validation loss decreased (inf --> 225.588613).  Saving model ...\n",
      "Epochs:  0  Iterations:  20  Loss_train:  23.712834346294404\n",
      "Epochs:  0  Iterations:  20  Loss_valid:  225.58861287434897\n",
      "Validation loss decreased (225.588613 --> 216.016212).  Saving model ...\n",
      "Validation loss decreased (216.016212 --> 206.605690).  Saving model ...\n",
      "Validation loss decreased (206.605690 --> 196.455231).  Saving model ...\n",
      "Validation loss decreased (196.455231 --> 185.082481).  Saving model ...\n",
      "Validation loss decreased (185.082481 --> 173.800972).  Saving model ...\n",
      "Validation loss decreased (173.800972 --> 163.545368).  Saving model ...\n",
      "Validation loss decreased (163.545368 --> 155.181485).  Saving model ...\n",
      "Validation loss decreased (155.181485 --> 148.714827).  Saving model ...\n",
      "Validation loss decreased (148.714827 --> 143.798466).  Saving model ...\n",
      "Validation loss decreased (143.798466 --> 139.954198).  Saving model ...\n",
      "Epochs:  10  Iterations:  220  Loss_train:  8.837463403493166\n",
      "Epochs:  10  Iterations:  220  Loss_valid:  139.9541975657145\n",
      "Validation loss decreased (139.954198 --> 136.664715).  Saving model ...\n",
      "Validation loss decreased (136.664715 --> 133.499274).  Saving model ...\n",
      "Validation loss decreased (133.499274 --> 130.134956).  Saving model ...\n",
      "Validation loss decreased (130.134956 --> 126.475158).  Saving model ...\n",
      "Validation loss decreased (126.475158 --> 122.686393).  Saving model ...\n",
      "Validation loss decreased (122.686393 --> 119.037036).  Saving model ...\n",
      "Validation loss decreased (119.037036 --> 115.611468).  Saving model ...\n",
      "Validation loss decreased (115.611468 --> 112.430747).  Saving model ...\n",
      "Validation loss decreased (112.430747 --> 109.474629).  Saving model ...\n",
      "Validation loss decreased (109.474629 --> 106.738605).  Saving model ...\n",
      "Epochs:  20  Iterations:  420  Loss_train:  2.62130593508482\n",
      "Epochs:  20  Iterations:  420  Loss_valid:  106.73860454559326\n",
      "Validation loss decreased (106.738605 --> 104.186527).  Saving model ...\n",
      "Validation loss decreased (104.186527 --> 101.819134).  Saving model ...\n",
      "Validation loss decreased (101.819134 --> 99.614381).  Saving model ...\n",
      "Validation loss decreased (99.614381 --> 97.565722).  Saving model ...\n",
      "Validation loss decreased (97.565722 --> 95.647037).  Saving model ...\n",
      "Validation loss decreased (95.647037 --> 93.851503).  Saving model ...\n",
      "Validation loss decreased (93.851503 --> 92.158033).  Saving model ...\n",
      "Validation loss decreased (92.158033 --> 90.565516).  Saving model ...\n",
      "Validation loss decreased (90.565516 --> 89.056548).  Saving model ...\n",
      "Validation loss decreased (89.056548 --> 87.634911).  Saving model ...\n",
      "Epochs:  30  Iterations:  620  Loss_train:  1.575480404496193\n",
      "Epochs:  30  Iterations:  620  Loss_valid:  87.63491074244182\n",
      "Validation loss decreased (87.634911 --> 86.284750).  Saving model ...\n",
      "Validation loss decreased (86.284750 --> 85.013163).  Saving model ...\n",
      "Validation loss decreased (85.013163 --> 83.802947).  Saving model ...\n",
      "Validation loss decreased (83.802947 --> 82.659046).  Saving model ...\n",
      "Validation loss decreased (82.659046 --> 81.567102).  Saving model ...\n",
      "Validation loss decreased (81.567102 --> 80.536748).  Saving model ...\n",
      "Validation loss decreased (80.536748 --> 79.537788).  Saving model ...\n",
      "Validation loss decreased (79.537788 --> 78.590264).  Saving model ...\n",
      "Validation loss decreased (78.590264 --> 77.667584).  Saving model ...\n",
      "Validation loss decreased (77.667584 --> 76.802744).  Saving model ...\n",
      "Epochs:  40  Iterations:  820  Loss_train:  1.349804707430303\n",
      "Epochs:  40  Iterations:  820  Loss_valid:  76.80274367332458\n",
      "Validation loss decreased (76.802744 --> 75.941020).  Saving model ...\n",
      "Validation loss decreased (75.941020 --> 75.135614).  Saving model ...\n",
      "Validation loss decreased (75.135614 --> 74.338247).  Saving model ...\n",
      "Validation loss decreased (74.338247 --> 73.585366).  Saving model ...\n",
      "Validation loss decreased (73.585366 --> 72.842799).  Saving model ...\n",
      "Validation loss decreased (72.842799 --> 72.136649).  Saving model ...\n",
      "Validation loss decreased (72.136649 --> 71.442119).  Saving model ...\n",
      "Validation loss decreased (71.442119 --> 70.777770).  Saving model ...\n",
      "Validation loss decreased (70.777770 --> 70.126046).  Saving model ...\n",
      "Validation loss decreased (70.126046 --> 69.499228).  Saving model ...\n",
      "Epochs:  50  Iterations:  1020  Loss_train:  1.2471862483769656\n",
      "Epochs:  50  Iterations:  1020  Loss_valid:  69.49922760327657\n",
      "Validation loss decreased (69.499228 --> 68.885896).  Saving model ...\n",
      "Validation loss decreased (68.885896 --> 68.292984).  Saving model ...\n",
      "Validation loss decreased (68.292984 --> 67.714366).  Saving model ...\n",
      "Validation loss decreased (67.714366 --> 67.152633).  Saving model ...\n",
      "Validation loss decreased (67.152633 --> 66.605870).  Saving model ...\n",
      "Validation loss decreased (66.605870 --> 66.073502).  Saving model ...\n",
      "Validation loss decreased (66.073502 --> 65.556520).  Saving model ...\n",
      "Validation loss decreased (65.556520 --> 65.052421).  Saving model ...\n",
      "Validation loss decreased (65.052421 --> 64.563541).  Saving model ...\n",
      "Validation loss decreased (64.563541 --> 64.086750).  Saving model ...\n",
      "Epochs:  60  Iterations:  1220  Loss_train:  1.1853896912187338\n",
      "Epochs:  60  Iterations:  1220  Loss_valid:  64.08674955368042\n",
      "Validation loss decreased (64.086750 --> 63.624425).  Saving model ...\n",
      "Validation loss decreased (63.624425 --> 63.173702).  Saving model ...\n",
      "Validation loss decreased (63.173702 --> 62.736220).  Saving model ...\n",
      "Validation loss decreased (62.736220 --> 62.309957).  Saving model ...\n",
      "Validation loss decreased (62.309957 --> 61.895598).  Saving model ...\n",
      "Validation loss decreased (61.895598 --> 61.491992).  Saving model ...\n",
      "Validation loss decreased (61.491992 --> 61.099122).  Saving model ...\n",
      "Validation loss decreased (61.099122 --> 60.716393).  Saving model ...\n",
      "Validation loss decreased (60.716393 --> 60.343481).  Saving model ...\n",
      "Validation loss decreased (60.343481 --> 59.979972).  Saving model ...\n",
      "Epochs:  70  Iterations:  1420  Loss_train:  1.1414730237796902\n",
      "Epochs:  70  Iterations:  1420  Loss_valid:  59.97997224330902\n",
      "Validation loss decreased (59.979972 --> 59.625479).  Saving model ...\n",
      "Validation loss decreased (59.625479 --> 59.279650).  Saving model ...\n",
      "Validation loss decreased (59.279650 --> 58.942101).  Saving model ...\n",
      "Validation loss decreased (58.942101 --> 58.612482).  Saving model ...\n",
      "Validation loss decreased (58.612482 --> 58.290466).  Saving model ...\n",
      "Validation loss decreased (58.290466 --> 57.975732).  Saving model ...\n",
      "Validation loss decreased (57.975732 --> 57.668000).  Saving model ...\n",
      "Validation loss decreased (57.668000 --> 57.367052).  Saving model ...\n",
      "Validation loss decreased (57.367052 --> 57.072651).  Saving model ...\n",
      "Validation loss decreased (57.072651 --> 56.784627).  Saving model ...\n",
      "Epochs:  80  Iterations:  1620  Loss_train:  1.1036489425227045\n",
      "Epochs:  80  Iterations:  1620  Loss_valid:  56.784627199172974\n",
      "Validation loss decreased (56.784627 --> 56.502820).  Saving model ...\n",
      "Validation loss decreased (56.502820 --> 56.227061).  Saving model ...\n",
      "Validation loss decreased (56.227061 --> 55.957236).  Saving model ...\n",
      "Validation loss decreased (55.957236 --> 55.693204).  Saving model ...\n",
      "Validation loss decreased (55.693204 --> 55.434868).  Saving model ...\n",
      "Validation loss decreased (55.434868 --> 55.182132).  Saving model ...\n",
      "Validation loss decreased (55.182132 --> 54.934899).  Saving model ...\n",
      "Validation loss decreased (54.934899 --> 54.693141).  Saving model ...\n",
      "Validation loss decreased (54.693141 --> 54.456781).  Saving model ...\n",
      "Validation loss decreased (54.456781 --> 54.225786).  Saving model ...\n",
      "Epochs:  90  Iterations:  1820  Loss_train:  1.070545269176364\n",
      "Epochs:  90  Iterations:  1820  Loss_valid:  54.22578561306\n",
      "Validation loss decreased (54.225786 --> 54.000123).  Saving model ...\n",
      "Validation loss decreased (54.000123 --> 53.779745).  Saving model ...\n",
      "Validation loss decreased (53.779745 --> 53.564551).  Saving model ...\n",
      "Validation loss decreased (53.564551 --> 53.354456).  Saving model ...\n",
      "Validation loss decreased (53.354456 --> 53.149365).  Saving model ...\n",
      "Validation loss decreased (53.149365 --> 52.949092).  Saving model ...\n",
      "Validation loss decreased (52.949092 --> 52.753504).  Saving model ...\n",
      "Validation loss decreased (52.753504 --> 52.562427).  Saving model ...\n",
      "Validation loss decreased (52.562427 --> 52.375682).  Saving model ...\n",
      "Validation loss decreased (52.375682 --> 52.193108).  Saving model ...\n",
      "Epochs:  100  Iterations:  2020  Loss_train:  1.0436364004388452\n",
      "Epochs:  100  Iterations:  2020  Loss_valid:  52.193107763926186\n",
      "Validation loss decreased (52.193108 --> 52.014559).  Saving model ...\n",
      "Validation loss decreased (52.014559 --> 51.839893).  Saving model ...\n",
      "Validation loss decreased (51.839893 --> 51.668957).  Saving model ...\n",
      "Validation loss decreased (51.668957 --> 51.501663).  Saving model ...\n",
      "Validation loss decreased (51.501663 --> 51.338016).  Saving model ...\n",
      "Validation loss decreased (51.338016 --> 51.177898).  Saving model ...\n",
      "Validation loss decreased (51.177898 --> 51.021481).  Saving model ...\n",
      "Validation loss decreased (51.021481 --> 50.867829).  Saving model ...\n",
      "Validation loss decreased (50.867829 --> 50.719335).  Saving model ...\n",
      "Validation loss decreased (50.719335 --> 50.567999).  Saving model ...\n",
      "Epochs:  110  Iterations:  2220  Loss_train:  1.0205989765003323\n",
      "Epochs:  110  Iterations:  2220  Loss_valid:  50.567998925844826\n",
      "Validation loss decreased (50.567999 --> 50.439797).  Saving model ...\n",
      "Validation loss decreased (50.439797 --> 50.245223).  Saving model ...\n",
      "Validation loss decreased (50.245223 --> 49.857365).  Saving model ...\n",
      "Validation loss decreased (49.857365 --> 49.758028).  Saving model ...\n",
      "Validation loss decreased (49.758028 --> 49.717454).  Saving model ...\n",
      "Validation loss decreased (49.717454 --> 49.678487).  Saving model ...\n",
      "Validation loss decreased (49.678487 --> 49.286357).  Saving model ...\n",
      "Epochs:  120  Iterations:  2420  Loss_train:  1.086319370009005\n",
      "Epochs:  120  Iterations:  2420  Loss_valid:  49.76397387186686\n",
      "Validation loss decreased (49.286357 --> 49.182373).  Saving model ...\n",
      "Validation loss decreased (49.182373 --> 49.161915).  Saving model ...\n",
      "Validation loss decreased (49.161915 --> 49.026736).  Saving model ...\n",
      "Validation loss decreased (49.026736 --> 48.926834).  Saving model ...\n",
      "Validation loss decreased (48.926834 --> 48.779207).  Saving model ...\n",
      "Validation loss decreased (48.779207 --> 48.750369).  Saving model ...\n",
      "Validation loss decreased (48.750369 --> 48.567274).  Saving model ...\n",
      "Validation loss decreased (48.567274 --> 48.513352).  Saving model ...\n",
      "Validation loss decreased (48.513352 --> 48.441073).  Saving model ...\n",
      "Epochs:  130  Iterations:  2620  Loss_train:  1.020482163503766\n",
      "Epochs:  130  Iterations:  2620  Loss_valid:  48.441073497136436\n",
      "Validation loss decreased (48.441073 --> 48.254745).  Saving model ...\n",
      "Validation loss decreased (48.254745 --> 48.012388).  Saving model ...\n",
      "Validation loss decreased (48.012388 --> 47.838576).  Saving model ...\n",
      "Validation loss decreased (47.838576 --> 47.730475).  Saving model ...\n",
      "Validation loss decreased (47.730475 --> 47.682510).  Saving model ...\n",
      "Validation loss decreased (47.682510 --> 47.602023).  Saving model ...\n",
      "Epochs:  140  Iterations:  2820  Loss_train:  1.0112176559865476\n",
      "Epochs:  140  Iterations:  2820  Loss_valid:  47.60202296574911\n",
      "Validation loss decreased (47.602023 --> 47.410166).  Saving model ...\n",
      "Validation loss decreased (47.410166 --> 47.308037).  Saving model ...\n",
      "Validation loss decreased (47.308037 --> 47.297617).  Saving model ...\n",
      "Validation loss decreased (47.297617 --> 47.104711).  Saving model ...\n",
      "Validation loss decreased (47.104711 --> 46.935818).  Saving model ...\n",
      "Epochs:  150  Iterations:  3020  Loss_train:  1.012956886179745\n",
      "Epochs:  150  Iterations:  3020  Loss_valid:  47.348990519841514\n",
      "Validation loss decreased (46.935818 --> 46.874658).  Saving model ...\n",
      "Validation loss decreased (46.874658 --> 46.823695).  Saving model ...\n",
      "Validation loss decreased (46.823695 --> 46.737392).  Saving model ...\n",
      "Epochs:  160  Iterations:  3220  Loss_train:  0.9797455510124564\n",
      "Epochs:  160  Iterations:  3220  Loss_valid:  46.78655735651652\n",
      "Validation loss decreased (46.737392 --> 46.721251).  Saving model ...\n",
      "Validation loss decreased (46.721251 --> 46.704061).  Saving model ...\n",
      "Epochs:  170  Iterations:  3420  Loss_train:  0.9802396807819604\n",
      "Epochs:  170  Iterations:  3420  Loss_valid:  47.19803639252981\n",
      "Epochs:  180  Iterations:  3620  Loss_train:  0.9770816145464778\n",
      "Epochs:  180  Iterations:  3620  Loss_valid:  47.67117269833883\n",
      "Epochs:  190  Iterations:  3820  Loss_train:  0.9564296383410692\n",
      "Epochs:  190  Iterations:  3820  Loss_valid:  46.967839201291405\n",
      "Validation loss decreased (46.704061 --> 46.651769).  Saving model ...\n"
     ]
    }
   ],
   "source": [
    "# Initialize model\n",
    "print(\"==> Initialize DA-RNN model ...\")\n",
    "model = DA_rnn(\n",
    "    X,\n",
    "    y,\n",
    "    ntimestep,\n",
    "    nhidden_encoder,\n",
    "    nhidden_decoder,\n",
    "    batchsize,\n",
    "    lr,\n",
    "    epochs\n",
    ")\n",
    "\n",
    "# Train\n",
    "print(\"==> Start training ...\")\n",
    "model.train()\n",
    "\n",
    "# Prediction\n",
    "model.load_state_dict(torch.load('checkpoint.pt'))\n",
    "y_pred = model.test()"
   ]
  },
  {
   "cell_type": "code",
   "execution_count": 0,
   "metadata": {
    "colab": {
     "base_uri": "https://localhost:8080/",
     "height": 316
    },
    "colab_type": "code",
    "id": "nWgpEjR8TxCC",
    "outputId": "ddadbdf2-4b29-4ea7-b064-7681e3e8ef4e"
   },
   "outputs": [
    {
     "data": {
      "image/png": "[encoded data removed]",
      "text/plain": [
       "<Figure size 432x288 with 1 Axes>"
      ]
     },
     "metadata": {
      "tags": []
     },
     "output_type": "display_data"
    },
    {
     "name": "stdout",
     "output_type": "stream",
     "text": [
      "MSE en test : 74.98533769399613\n",
      "ecart-type 5.361892646552815\n"
     ]
    }
   ],
   "source": [
    "plt.plot(y[model.train_timesteps+model.valid_timesteps:], label=\"True\")\n",
    "plt.plot(y_pred   + np.mean(y[:model.train_timesteps]),label=\"pred\")\n",
    "plt.title(\"Predictions\")\n",
    "plt.legend()\n",
    "plt.show()\n",
    "print(\"MSE en test :\" ,mean_squared_error(y[model.train_timesteps+model.valid_timesteps:], y_pred+ np.mean(y[:model.train_timesteps])))\n",
    "print(\"ecart-type\",np.std(np.abs(y[model.train_timesteps+model.valid_timesteps:]-y_pred + np.mean(y[:model.train_timesteps]))))"
   ]
  },
  {
   "cell_type": "markdown",
   "metadata": {
    "colab_type": "text",
    "id": "ihNNdpYee2GX"
   },
   "source": [
    "LOSS :"
   ]
  },
  {
   "cell_type": "code",
   "execution_count": 8,
   "metadata": {
    "colab": {
     "base_uri": "https://localhost:8080/",
     "height": 281
    },
    "colab_type": "code",
    "id": "Krsm_l9mezC7",
    "outputId": "e7f7fb70-b9b6-408d-984b-c293d61913f3"
   },
   "outputs": [
    {
     "data": {
      "image/png": "[encoded data removed]",
      "text/plain": [
       "<Figure size 432x288 with 1 Axes>"
      ]
     },
     "metadata": {
      "tags": []
     },
     "output_type": "display_data"
    }
   ],
   "source": [
    "plt.plot(model.epoch_losses_valid,label=\"valid\")\n",
    "plt.plot(model.epoch_losses,label=\"app\")\n",
    "plt.title(\"LOSS\")\n",
    "plt.legend()\n",
    "plt.show()"
   ]
  },
  {
   "cell_type": "markdown",
   "metadata": {
    "colab_type": "text",
    "id": "LniZ1flVYWXH"
   },
   "source": [
    "Indoor Dataset :"
   ]
  },
  {
   "cell_type": "code",
   "execution_count": 0,
   "metadata": {
    "colab": {},
    "colab_type": "code",
    "id": "BDejvVxAYYhX"
   },
   "outputs": [],
   "source": [
    "def read_indoor(input_path, debug=True):\n",
    "    \"\"\"Read nasdaq stocks data.\n",
    "\n",
    "    Args:\n",
    "        input_path (str): directory to nasdaq dataset.\n",
    "\n",
    "    Returns:\n",
    "        X (np.ndarray): features.\n",
    "        y (np.ndarray): ground truth.\n",
    "\n",
    "    \"\"\"\n",
    "    df = pd.read_csv(input_path)\n",
    "    # X = df.iloc[:, 0:-1].values\n",
    "    X = df.loc[:, [x for x in df.columns.tolist() if x != \"Temperature_Habitacion_Sensor\"]].as_matrix()\n",
    "    # y = df.iloc[:, -1].values\n",
    "    y = np.array(df.Temperature_Habitacion_Sensor)\n",
    "\n",
    "    return X, y"
   ]
  },
  {
   "cell_type": "code",
   "execution_count": 0,
   "metadata": {
    "colab": {},
    "colab_type": "code",
    "id": "myavpYi6ZpVW"
   },
   "outputs": [],
   "source": [
    "batchsize = 30\n",
    "nhidden_encoder = 128\n",
    "nhidden_decoder = 128\n",
    "ntimestep = 10\n",
    "lr = 0.001\n",
    "epochs = 200"
   ]
  },
  {
   "cell_type": "code",
   "execution_count": 0,
   "metadata": {
    "colab": {
     "base_uri": "https://localhost:8080/",
     "height": 89
    },
    "colab_type": "code",
    "id": "qgiQTlh7ZObe",
    "outputId": "2e685fe4-7ed6-4c8f-9741-e5629bd30ea0"
   },
   "outputs": [
    {
     "name": "stderr",
     "output_type": "stream",
     "text": [
      "/usr/local/lib/python3.6/dist-packages/ipykernel_launcher.py:14: FutureWarning: Method .as_matrix will be removed in a future version. Use .values instead.\n",
      "  \n"
     ]
    },
    {
     "data": {
      "text/plain": [
       "(2764, 17)"
      ]
     },
     "execution_count": 14,
     "metadata": {
      "tags": []
     },
     "output_type": "execute_result"
    }
   ],
   "source": [
    "X,y=read_indoor(\"indoor.csv\", debug=True)"
   ]
  },
  {
   "cell_type": "code",
   "execution_count": 0,
   "metadata": {
    "colab": {
     "base_uri": "https://localhost:8080/",
     "height": 1000
    },
    "colab_type": "code",
    "id": "LcAJQDMoZYVv",
    "outputId": "615cc030-2c1f-4dca-ae4c-6031528d5cc8"
   },
   "outputs": [
    {
     "name": "stdout",
     "output_type": "stream",
     "text": [
      "==> Initialize DA-RNN model ...\n",
      "==> Use accelerator:  cuda:0\n",
      "Nb de données en Train 1934\n",
      "Nb de données en Valid 276\n",
      "Nb de données en Test 554\n",
      "==> Start training ...\n"
     ]
    },
    {
     "name": "stderr",
     "output_type": "stream",
     "text": [
      "/usr/local/lib/python3.6/dist-packages/ipykernel_launcher.py:60: UserWarning: Implicit dimension choice for softmax has been deprecated. Change the call to include dim=X as an argument.\n",
      "/usr/local/lib/python3.6/dist-packages/ipykernel_launcher.py:128: UserWarning: Implicit dimension choice for softmax has been deprecated. Change the call to include dim=X as an argument.\n"
     ]
    },
    {
     "name": "stdout",
     "output_type": "stream",
     "text": [
      "Validation loss decreased (inf --> 2.657718).  Saving model ...\n",
      "Epochs:  0  Iterations:  65  Loss_train:  4.603616203940832\n",
      "Epochs:  0  Iterations:  65  Loss_valid:  2.6577176809310914\n",
      "Validation loss decreased (2.657718 --> 2.440961).  Saving model ...\n",
      "Validation loss decreased (2.440961 --> 1.628834).  Saving model ...\n",
      "Validation loss decreased (1.628834 --> 0.572165).  Saving model ...\n",
      "Validation loss decreased (0.572165 --> 0.352886).  Saving model ...\n",
      "Epochs:  10  Iterations:  715  Loss_train:  0.7413101722701237\n",
      "Epochs:  10  Iterations:  715  Loss_valid:  0.35288617238402364\n",
      "Validation loss decreased (0.352886 --> 0.235166).  Saving model ...\n",
      "Validation loss decreased (0.235166 --> 0.202391).  Saving model ...\n",
      "Validation loss decreased (0.202391 --> 0.119560).  Saving model ...\n",
      "Validation loss decreased (0.119560 --> 0.087106).  Saving model ...\n",
      "Validation loss decreased (0.087106 --> 0.085916).  Saving model ...\n",
      "Epochs:  20  Iterations:  1365  Loss_train:  0.12938298432586284\n",
      "Epochs:  20  Iterations:  1365  Loss_valid:  0.08591593783348798\n",
      "Validation loss decreased (0.085916 --> 0.070417).  Saving model ...\n",
      "Validation loss decreased (0.070417 --> 0.052764).  Saving model ...\n",
      "Validation loss decreased (0.052764 --> 0.051138).  Saving model ...\n",
      "Validation loss decreased (0.051138 --> 0.050225).  Saving model ...\n",
      "Epochs:  30  Iterations:  2015  Loss_train:  0.1591574320426354\n",
      "Epochs:  30  Iterations:  2015  Loss_valid:  0.09620816977694631\n",
      "Validation loss decreased (0.050225 --> 0.047127).  Saving model ...\n",
      "Validation loss decreased (0.047127 --> 0.040172).  Saving model ...\n",
      "Validation loss decreased (0.040172 --> 0.037969).  Saving model ...\n",
      "Epochs:  40  Iterations:  2665  Loss_train:  0.03786868852061721\n",
      "Epochs:  40  Iterations:  2665  Loss_valid:  0.03808436642866582\n",
      "Validation loss decreased (0.037969 --> 0.030761).  Saving model ...\n",
      "Epochs:  50  Iterations:  3315  Loss_train:  0.05460579211178881\n",
      "Epochs:  50  Iterations:  3315  Loss_valid:  0.052837148134130985\n",
      "Epochs:  60  Iterations:  3965  Loss_train:  0.0424012291066062\n",
      "Epochs:  60  Iterations:  3965  Loss_valid:  0.034092794347088784\n",
      "Validation loss decreased (0.030761 --> 0.029934).  Saving model ...\n",
      "Validation loss decreased (0.029934 --> 0.029844).  Saving model ...\n",
      "Validation loss decreased (0.029844 --> 0.028578).  Saving model ...\n",
      "Epochs:  70  Iterations:  4615  Loss_train:  0.050714739781016344\n",
      "Epochs:  70  Iterations:  4615  Loss_valid:  0.03430244247429073\n",
      "Epochs:  80  Iterations:  5265  Loss_train:  0.032404716710488383\n",
      "Epochs:  80  Iterations:  5265  Loss_valid:  0.03591515708249062\n",
      "Epochs:  90  Iterations:  5915  Loss_train:  0.027421853750442655\n",
      "Epochs:  90  Iterations:  5915  Loss_valid:  0.03476195649709553\n",
      "Validation loss decreased (0.028578 --> 0.027092).  Saving model ...\n",
      "Validation loss decreased (0.027092 --> 0.025513).  Saving model ...\n",
      "Epochs:  100  Iterations:  6565  Loss_train:  0.04173692679032683\n",
      "Epochs:  100  Iterations:  6565  Loss_valid:  0.032838681642897424\n",
      "Validation loss decreased (0.025513 --> 0.022218).  Saving model ...\n",
      "Epochs:  110  Iterations:  7215  Loss_train:  0.02679999706765207\n",
      "Epochs:  110  Iterations:  7215  Loss_valid:  0.041096266731619834\n",
      "Epochs:  120  Iterations:  7865  Loss_train:  0.015616497232650335\n",
      "Epochs:  120  Iterations:  7865  Loss_valid:  0.028876817063428463\n",
      "Epochs:  130  Iterations:  8515  Loss_train:  0.04020888538529666\n",
      "Epochs:  130  Iterations:  8515  Loss_valid:  0.03879458233714104\n",
      "Validation loss decreased (0.022218 --> 0.021855).  Saving model ...\n",
      "Validation loss decreased (0.021855 --> 0.021643).  Saving model ...\n",
      "Epochs:  140  Iterations:  9165  Loss_train:  0.013883873899109089\n",
      "Epochs:  140  Iterations:  9165  Loss_valid:  0.021642603527288883\n",
      "Validation loss decreased (0.021643 --> 0.019681).  Saving model ...\n",
      "Validation loss decreased (0.019681 --> 0.017927).  Saving model ...\n",
      "Validation loss decreased (0.017927 --> 0.016028).  Saving model ...\n",
      "Epochs:  150  Iterations:  9815  Loss_train:  0.017145046079531313\n",
      "Epochs:  150  Iterations:  9815  Loss_valid:  0.01763424468226731\n",
      "Validation loss decreased (0.016028 --> 0.013197).  Saving model ...\n",
      "Validation loss decreased (0.013197 --> 0.010933).  Saving model ...\n",
      "Epochs:  160  Iterations:  10465  Loss_train:  0.017574546615091655\n",
      "Epochs:  160  Iterations:  10465  Loss_valid:  0.012715639173984527\n",
      "Epochs:  170  Iterations:  11115  Loss_train:  0.013512293924577534\n",
      "Epochs:  170  Iterations:  11115  Loss_valid:  0.019927522726356985\n",
      "Epochs:  180  Iterations:  11765  Loss_train:  0.010306040497604184\n",
      "Epochs:  180  Iterations:  11765  Loss_valid:  0.03488594907103106\n",
      "Epochs:  190  Iterations:  12415  Loss_train:  0.018622762580903677\n",
      "Epochs:  190  Iterations:  12415  Loss_valid:  0.03391858823597431\n"
     ]
    }
   ],
   "source": [
    "# Initialize model\n",
    "print(\"==> Initialize DA-RNN model ...\")\n",
    "model = DA_rnn(\n",
    "    X,\n",
    "    y,\n",
    "    ntimestep,\n",
    "    nhidden_encoder,\n",
    "    nhidden_decoder,\n",
    "    batchsize,\n",
    "    lr,\n",
    "    epochs\n",
    ")\n",
    "\n",
    "# Train\n",
    "print(\"==> Start training ...\")\n",
    "model.train()\n",
    "\n",
    "# Prediction\n",
    "model.load_state_dict(torch.load('checkpoint.pt'))\n",
    "y_pred = model.test()"
   ]
  },
  {
   "cell_type": "code",
   "execution_count": 0,
   "metadata": {
    "colab": {
     "base_uri": "https://localhost:8080/",
     "height": 316
    },
    "colab_type": "code",
    "id": "Rh5s7KA3aKCb",
    "outputId": "4d3aec0f-a796-4827-d04e-021747c7f5fc"
   },
   "outputs": [
    {
     "data": {
      "image/png": "[encoded data removed]",
      "text/plain": [
       "<Figure size 432x288 with 1 Axes>"
      ]
     },
     "metadata": {
      "tags": []
     },
     "output_type": "display_data"
    },
    {
     "name": "stdout",
     "output_type": "stream",
     "text": [
      "MSE en test : 0.012222606873595778\n",
      "ecart-type 0.09002882806499829\n"
     ]
    }
   ],
   "source": [
    "plt.plot(y[model.train_timesteps+model.valid_timesteps:], label=\"True\")\n",
    "plt.plot(y_pred   + np.mean(y[:model.train_timesteps]),label=\"pred\")\n",
    "plt.title(\"Predictions\")\n",
    "plt.legend()\n",
    "plt.show()\n",
    "print(\"MSE en test :\" ,mean_squared_error(y[model.train_timesteps+model.valid_timesteps:], y_pred+ np.mean(y[:model.train_timesteps])))\n",
    "print(\"ecart-type\",np.std(np.abs(y[model.train_timesteps+model.valid_timesteps:]-y_pred + np.mean(y[:model.train_timesteps]))))"
   ]
  },
  {
   "cell_type": "code",
   "execution_count": 0,
   "metadata": {
    "colab": {
     "base_uri": "https://localhost:8080/",
     "height": 316
    },
    "colab_type": "code",
    "id": "1-uGim7Pbus3",
    "outputId": "294b1e64-d482-421a-a029-57b16d8b6ddf"
   },
   "outputs": [
    {
     "data": {
      "image/png": "[encoded data removed]",
      "text/plain": [
       "<Figure size 432x288 with 1 Axes>"
      ]
     },
     "metadata": {
      "tags": []
     },
     "output_type": "display_data"
    },
    {
     "name": "stdout",
     "output_type": "stream",
     "text": [
      "MSE en test de : 0.01663321336347198\n",
      "ecart-type 0.07133895017766637\n"
     ]
    }
   ],
   "source": [
    "x_t = y[model.train_timesteps+model.valid_timesteps:]\n",
    "y_t=np.roll(x_t, 1)\n",
    "plt.plot(x_t[1:])\n",
    "plt.plot(y_t[1:])\n",
    "plt.title(\"Prediction one step ahead\")\n",
    "plt.show()\n",
    "print(\"MSE en test de :\",mean_squared_error(x_t[1:], y_t[1:]))\n",
    "print(\"ecart-type\",np.std(np.abs(x_t[1:]-y_t[1:])))"
   ]
  },
  {
   "cell_type": "code",
   "execution_count": 0,
   "metadata": {
    "colab": {
     "base_uri": "https://localhost:8080/",
     "height": 281
    },
    "colab_type": "code",
    "id": "cUqGoZC6b34E",
    "outputId": "f40770f0-08eb-4287-faf8-e79a1958ea8b"
   },
   "outputs": [
    {
     "data": {
      "image/png": "[encoded data removed]",
      "text/plain": [
       "<Figure size 432x288 with 1 Axes>"
      ]
     },
     "metadata": {
      "tags": []
     },
     "output_type": "display_data"
    }
   ],
   "source": [
    "plt.plot(model.epoch_losses_valid,label=\"valid\")\n",
    "plt.plot(model.epoch_losses,label=\"app\")\n",
    "plt.title(\"LOSS\")\n",
    "plt.legend()\n",
    "plt.show()"
   ]
  }
 ],
 "metadata": {
  "accelerator": "GPU",
  "colab": {
   "collapsed_sections": [],
   "name": "Copie de da_rnn.ipynb",
   "provenance": []
  },
  "kernelspec": {
   "display_name": "Python 3",
   "language": "python",
   "name": "python3"
  },
  "language_info": {
   "codemirror_mode": {
    "name": "ipython",
    "version": 3
   },
   "file_extension": ".py",
   "mimetype": "text/x-python",
   "name": "python",
   "nbconvert_exporter": "python",
   "pygments_lexer": "ipython3",
   "version": "3.7.5"
  }
 },
 "nbformat": 4,
 "nbformat_minor": 1
}
